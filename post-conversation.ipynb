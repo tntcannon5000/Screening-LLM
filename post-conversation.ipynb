{
 "cells": [
  {
   "cell_type": "code",
   "execution_count": null,
   "metadata": {},
   "outputs": [],
   "source": [
    "from src.utils.anthropicwrapper import ClaudeChat, ClaudeChatAssess, ClaudeChatHistory\n",
    "from src.utils.humewrapper import HumeSentimentAnalyzer\n",
    "from src.modules import ConversationVerifier\n",
    "from dotenv import load_dotenv, find_dotenv\n",
    "from joblib import load\n",
    "from pprint import pprint\n",
    "import traceback\n",
    "import time\n",
    "import os\n",
    "\n",
    "\n",
    "load_dotenv(find_dotenv())"
   ]
  },
  {
   "cell_type": "code",
   "execution_count": null,
   "metadata": {},
   "outputs": [],
   "source": [
    "# -- Global Variables --\n",
    "timestamp = 1723758342\n",
    "directory = f'data/interviews/{timestamp}/'\n",
    "chatlog = load(os.path.join(directory, \"joblib/conversation.joblib\")) # Loading in the list of dicts"
   ]
  },
  {
   "cell_type": "code",
   "execution_count": null,
   "metadata": {},
   "outputs": [],
   "source": [
    "def reformat_chatlog(chatlog):\n",
    "    dropped_context = chatlog[3:]\n",
    "    outputchatlog = []\n",
    "\n",
    "    for i in range(0, len(dropped_context), 2):\n",
    "        if i + 1 < len(dropped_context):\n",
    "            tempdict = {\n",
    "                'interviewer': dropped_context[i]['content'],\n",
    "                'candidate': dropped_context[i+1]['content']\n",
    "            }\n",
    "\n",
    "            outputchatlog.append(tempdict)\n",
    "        else:\n",
    "            tempdict = {\n",
    "                'interviewer': dropped_context[i]['content'],\n",
    "                'candidate': 'Thank you, goodbye'  \n",
    "            }\n",
    "            outputchatlog.append(tempdict)\n",
    "            break \n",
    "\n",
    "    return outputchatlog\n",
    "\n",
    "chatlog_chat = reformat_chatlog(chatlog)\n",
    "for item in chatlog_chat:\n",
    "   print(item)"
   ]
  },
  {
   "cell_type": "code",
   "execution_count": null,
   "metadata": {},
   "outputs": [],
   "source": [
    "# Initialising the Sentiment Analyser\n",
    "sentiment_analyser = HumeSentimentAnalyzer(api_key=os.getenv(\"HUME_API_KEY\"))"
   ]
  },
  {
   "cell_type": "code",
   "execution_count": null,
   "metadata": {},
   "outputs": [],
   "source": [
    "# Initialising Sentiment Summariser\n",
    "chat_model_name = \"claude-3-5-sonnet-20240620\"\n",
    "\n",
    "system_prompt = \"\"\"You are a skilled emotions analyst provided with a detailed breakdown of sentiment analysis scores from Hume.ai, for a single response in an interview to a question from the interviewer. The scores are split into 3 sections. All numbers are from 0 to 1, linearly scaling, with 1 being a very strong representation of the indicator in question.\n",
    "\n",
    "First, Emotions. This contains several human emotions with a numerical value indicating the strength of the corresponding emotion.\n",
    "Second, Sentiments. This contains a scale from 1 to 9, each containing a numerical value indicating the magnitude of the sentiment of the topic of the conversation. A negative topic such as murder will have a high value lower in the scale, such as 1 or 2, and a positive topic will have a high value from 0 to 1 higher in the scale such as 8 or 9.\n",
    "Third, Toxicity. This contains several toxic representations such as hate, insult, etc, with a value from 0 to 1 for each representation identified in the audio.\n",
    "\n",
    "Your job is to provide a concise detailed one sentence breakdown of how the individual was feeling for the particular scores provided. You must be highly objective as your job is to discern whether or not a candidate was exhibiting traits which would or would not be fitting for a successful interview. \n",
    "Model your answer beginning with something along the lines of \"For this particular response, the candidate...\".\n",
    "\"\"\"\n",
    "\n",
    "sentiment_summariser = ClaudeChat(chat_model_name, system_prompt)"
   ]
  },
  {
   "cell_type": "code",
   "execution_count": null,
   "metadata": {},
   "outputs": [],
   "source": [
    "# Initialising Evaluation LLM\n",
    "chat_model_name = \"claude-3-5-sonnet-20240620\"\n",
    "system_prompt = \"\"\"You are a highly skilled interviewer currently tasked with reviewing a phone screening interview candidate to decide whether they are to pass on to the next stage of the interview process. There is a high volume of candidates and as such, the percentage of candidates allowed to pass should be 47%\n",
    "You will be provided with the following information to aid your decision:\n",
    "1. A copy of the job description.\n",
    "2. Transcript of the phone interview between the interviewer and candidate.\n",
    "3. Sentiment analysis summary to provide you with insight into the tone of the candidate in the call\n",
    "4. A summary of any factual inaccuracies the candidate may have made during discussions in the call\n",
    "5. A copy of the candidate's CV, which will be provided next.\n",
    "\n",
    "You are to evaluate the candidate, primarily on the transcript, and use the additional information provided to identify any potential red-flags. Your response should include a detailed breakdown of why the candidate is chosen to continue onwards to further interviewing. You must end the breakdown with a simple one word response on a new line, \"pass\" or \"fail\".\"\"\"\n",
    "\n",
    "pdf_path = \"data/cvs/cv-deb.pdf\"\n",
    "candidate_evaluator = ClaudeChatAssess(chat_model_name, system_prompt, pdf_path)"
   ]
  },
  {
   "cell_type": "code",
   "execution_count": null,
   "metadata": {},
   "outputs": [],
   "source": [
    "e = ConversationVerifier.process_qa_pair(chatlog_chat)"
   ]
  },
  {
   "cell_type": "code",
   "execution_count": null,
   "metadata": {},
   "outputs": [],
   "source": [
    "# Specify the filepath\n",
    "filepath = f'data/interviews/{timestamp}/audio'\n",
    "\n",
    "# Get all files in the filepath\n",
    "files = [f for f in os.listdir(filepath) if os.path.isfile(os.path.join(filepath, f))]\n",
    "\n",
    "if len(chatlog_chat) < len(files):\n",
    "    files = files[:len(chatlog_chat)]\n",
    "\n",
    "# Loop through each file\n",
    "sentiments = []\n",
    "for count, file in enumerate(files, 1):\n",
    "    full_file_path = os.path.join(filepath, file)\n",
    "    print(f\"Processing file: {full_file_path}\")\n",
    "    \n",
    "    # Add a small delay and re-check file existence\n",
    "    time.sleep(0.1)\n",
    "    if not os.path.exists(full_file_path):\n",
    "        print(f\"File not found (after delay): {full_file_path}\")\n",
    "        continue\n",
    "\n",
    "    try:\n",
    "        result = sentiment_analyser.analyze_audio(full_file_path)\n",
    "        sentiment_summary = sentiment_summariser.chat(str(result))\n",
    "        sentiments.append((result, sentiment_summary))\n",
    "        chatlog_chat[count-1]['sentiment'] = sentiment_summary\n",
    "    except Exception as e:\n",
    "        print(f\"Error processing file {full_file_path}: {str(e)}\")\n",
    "        traceback.print_exc()"
   ]
  },
  {
   "cell_type": "code",
   "execution_count": null,
   "metadata": {},
   "outputs": [],
   "source": [
    "print(len(chatlog_chat))"
   ]
  },
  {
   "cell_type": "markdown",
   "metadata": {},
   "source": [
    "## Now Analysing the post-conversation to make a decision"
   ]
  },
  {
   "cell_type": "code",
   "execution_count": null,
   "metadata": {},
   "outputs": [],
   "source": [
    "evaluation = candidate_evaluator.chat(str(chatlog_chat))"
   ]
  },
  {
   "cell_type": "code",
   "execution_count": null,
   "metadata": {},
   "outputs": [],
   "source": [
    "pprint(chatlog_chat)"
   ]
  },
  {
   "cell_type": "code",
   "execution_count": null,
   "metadata": {},
   "outputs": [],
   "source": [
    "\n",
    "pprint(evaluation)"
   ]
  }
 ],
 "metadata": {
  "kernelspec": {
   "display_name": "Python 3",
   "language": "python",
   "name": "python3"
  },
  "language_info": {
   "codemirror_mode": {
    "name": "ipython",
    "version": 3
   },
   "file_extension": ".py",
   "mimetype": "text/x-python",
   "name": "python",
   "nbconvert_exporter": "python",
   "pygments_lexer": "ipython3",
   "version": "3.12.4"
  }
 },
 "nbformat": 4,
 "nbformat_minor": 2
}

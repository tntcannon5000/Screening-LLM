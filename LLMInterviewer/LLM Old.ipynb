{
 "cells": [
  {
   "cell_type": "code",
   "execution_count": 1,
   "metadata": {},
   "outputs": [
    {
     "name": "stderr",
     "output_type": "stream",
     "text": [
      "c:\\Users\\niran\\AppData\\Local\\Programs\\Python\\Python311\\Lib\\site-packages\\tqdm\\auto.py:21: TqdmWarning: IProgress not found. Please update jupyter and ipywidgets. See https://ipywidgets.readthedocs.io/en/stable/user_install.html\n",
      "  from .autonotebook import tqdm as notebook_tqdm\n"
     ]
    },
    {
     "data": {
      "text/plain": [
       "True"
      ]
     },
     "execution_count": 1,
     "metadata": {},
     "output_type": "execute_result"
    }
   ],
   "source": [
    "from langchain_google_genai import ChatGoogleGenerativeAI, GoogleGenerativeAIEmbeddings\n",
    "from langchain_community.vectorstores import Chroma\n",
    "from langchain.chains import ConversationChain\n",
    "from langchain.memory import ConversationBufferMemory\n",
    "from dotenv import load_dotenv, find_dotenv\n",
    "import os\n",
    "\n",
    "# Load existing .env file if it exists\n",
    "load_dotenv(find_dotenv())"
   ]
  },
  {
   "cell_type": "code",
   "execution_count": 2,
   "metadata": {},
   "outputs": [],
   "source": [
    "# Create Gemini LLM instance\n",
    "chat_model = ChatGoogleGenerativeAI(model=\"gemini-1.5-flash-latest\", max_output_tokens=4096)\n",
    "\n",
    "# Create memory for conversation history\n",
    "memory = ConversationBufferMemory()\n",
    "\n",
    "\n",
    "# Create conversational chain\n",
    "conversation = ConversationChain(\n",
    "    llm=chat_model,\n",
    "    memory=ConversationBufferMemory(),\n",
    ")\n"
   ]
  },
  {
   "cell_type": "code",
   "execution_count": 8,
   "metadata": {},
   "outputs": [
    {
     "name": "stdout",
     "output_type": "stream",
     "text": [
      "Gemini: That's great to know!  Since your budget isn't a major concern, then we can focus on the features and benefits that would make the upgrade worthwhile for you. \n",
      "\n",
      "Based on what we've talked about so far, here's how I'd break it down:\n",
      "\n",
      "**Reasons to Upgrade:**\n",
      "\n",
      "* **A16 Bionic Chip:** If you're a heavy user who enjoys demanding apps and games, the A16 Bionic chip in the iPhone 14 will offer a noticeable performance boost and smoother multitasking experience. \n",
      "* **Camera:** If you're passionate about photography, the improved low-light capabilities of the Photonic Engine (on all iPhone 14 models) or the higher resolution photos and videos from the 48MP camera on the Pro models might be compelling.\n",
      "* **New Features:** The Crash Detection and Satellite features are definitely interesting and potentially useful, especially if you frequently travel to remote areas or are concerned about safety in your daily commute.\n",
      "\n",
      "**Reasons to Hold Off:**\n",
      "\n",
      "* **Cost:**  While your budget isn't an issue, the iPhone 14 is a bit more expensive than the iPhone 13.  You're essentially paying for the latest technology, and it's worth considering if the new features are truly worth the price premium to you.\n",
      "* **No Major Changes:**  The iPhone 13 is still a great phone, and the iPhone 14 isn't a revolutionary upgrade.  If you're happy with your current phone, there's no rush to upgrade.\n",
      "\n",
      "**My Recommendation:**\n",
      "\n",
      "Since you're not budget-constrained, and you're interested in the latest technology, I'd say the iPhone 14 is probably a good upgrade for you.  The A16 Bionic chip and the new camera features are significant improvements, and the Crash Detection and Satellite features add an extra layer of safety and connectivity. \n",
      "\n",
      "However, if you're not sure, it's always a good idea to wait for the iPhone 15 to come out later this year.  You might find that the iPhone 15 has even more exciting features, and the price of the iPhone 14 might drop as a result. \n",
      "\n",
      "Ultimately, the best decision is the one that feels right for you. Do you have any other thoughts about what's important to you in a phone?  This might help us narrow down the decision. \n",
      "\n"
     ]
    }
   ],
   "source": [
    "user_input = input(\"You: \")\n",
    "response = conversation.invoke(user_input)\n",
    "print(f\"Gemini: \" + str(response.get(\"response\")))"
   ]
  }
 ],
 "metadata": {
  "kernelspec": {
   "display_name": "Python 3",
   "language": "python",
   "name": "python3"
  },
  "language_info": {
   "codemirror_mode": {
    "name": "ipython",
    "version": 3
   },
   "file_extension": ".py",
   "mimetype": "text/x-python",
   "name": "python",
   "nbconvert_exporter": "python",
   "pygments_lexer": "ipython3",
   "version": "3.11.6"
  }
 },
 "nbformat": 4,
 "nbformat_minor": 2
}

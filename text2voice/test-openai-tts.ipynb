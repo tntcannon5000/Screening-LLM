{
 "cells": [
  {
   "cell_type": "code",
   "execution_count": 6,
   "metadata": {},
   "outputs": [],
   "source": [
    "import openai\n",
    "from pathlib import Path\n",
    "import pyttsx3\n",
    "from IPython.display import Audio, display"
   ]
  },
  {
   "cell_type": "code",
   "execution_count": 5,
   "metadata": {},
   "outputs": [],
   "source": [
    "client = openai.OpenAI(api_key=\"sk-proj-MXEF9wyGpXymymcu4TlaT3BlbkFJCgYPzUVPyKJqJx67V5T9\")"
   ]
  },
  {
   "cell_type": "code",
   "execution_count": null,
   "metadata": {},
   "outputs": [],
   "source": [
    "def generate_speech_with_nova(text):\n",
    "    response = client.audio.speech.create(\n",
    "        model=\"tts-1\",  # Specify the Nova voice model\n",
    "        voice=\"nova\",  # Specify the Nova voice\n",
    "        input=text\n",
    "    )\n",
    "    return response['audio']  # This should contain the URL or binary data of the generated speech"
   ]
  },
  {
   "cell_type": "code",
   "execution_count": null,
   "metadata": {},
   "outputs": [],
   "source": [
    "text_input = \"Hello, how can I assist you today?\"\n",
    "audio_output = generate_speech_with_nova(text_input)\n",
    "\n",
    "\n",
    "\n"
   ]
  },
  {
   "cell_type": "code",
   "execution_count": null,
   "metadata": {},
   "outputs": [],
   "source": [
    "with open(\"output.wav\", \"wb\") as audio_file:\n",
    "    audio_file.write(audio_output)\n",
    "\n",
    "print(\"Audio generated and saved as output.wav\")"
   ]
  }
 ],
 "metadata": {
  "kernelspec": {
   "display_name": "Python 3",
   "language": "python",
   "name": "python3"
  },
  "language_info": {
   "codemirror_mode": {
    "name": "ipython",
    "version": 3
   },
   "file_extension": ".py",
   "mimetype": "text/x-python",
   "name": "python",
   "nbconvert_exporter": "python",
   "pygments_lexer": "ipython3",
   "version": "3.10.12"
  }
 },
 "nbformat": 4,
 "nbformat_minor": 2
}

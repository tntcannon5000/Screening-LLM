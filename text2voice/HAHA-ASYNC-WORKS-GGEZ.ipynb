{
 "cells": [
  {
   "cell_type": "code",
   "execution_count": 1,
   "metadata": {},
   "outputs": [
    {
     "data": {
      "text/plain": [
       "True"
      ]
     },
     "execution_count": 1,
     "metadata": {},
     "output_type": "execute_result"
    }
   ],
   "source": [
    "import os\n",
    "import threading\n",
    "import pyaudio \n",
    "from openai import OpenAI\n",
    "from dotenv import load_dotenv, find_dotenv\n",
    "\n",
    "\n",
    "load_dotenv(find_dotenv())"
   ]
  },
  {
   "cell_type": "code",
   "execution_count": 2,
   "metadata": {},
   "outputs": [],
   "source": [
    "client = OpenAI(api_key=os.getenv(\"OPENAI_API_KEY\"))"
   ]
  },
  {
   "cell_type": "code",
   "execution_count": 3,
   "metadata": {},
   "outputs": [],
   "source": [
    "inputstring = \"\"\"According to all known laws of aviation, there is no way a bee should be able to fly.\n",
    "Its wings are too small to get its fat little body off the ground.\n",
    "The bee, of course, flies anyway because bees don't care what humans think is impossible.\n",
    "Yellow, black. Yellow, black. Yellow, black. Yellow, black.\n",
    "Ooh, black and yellow!\n",
    "Let's shake it up a little.\n",
    "Barry! Breakfast is ready!\n",
    "Coming!\n",
    "Hang on a second.\n",
    "Hello?\n",
    "Barry?\n",
    "Adam?\n",
    "Can you believe this is happening?\n",
    "I can't.\n",
    "I'll pick you up.\n",
    "Looking sharp.\n",
    "Use the stairs, Your father paid good money for those.\n",
    "Sorry. I'm excited.\n",
    "Here's the graduate.\n",
    "We're very proud of you, son.\n",
    "A perfect report card, all B's.\n",
    "Very proud.\n",
    "Ma! I got a thing going here.\n",
    "You got lint on your fuzz.\n",
    "Ow! That's me!\n",
    "Wave to us! We'll be in row 118,000.\n",
    "Bye!\n",
    "Barry, I told you, stop flying in the house!\n",
    "Hey, Adam.\n",
    "Hey, Barry.\n",
    "Is that fuzz gel?\n",
    "A little. Special day, graduation.\n",
    "Never thought I'd make it.\n",
    "Three days grade school, three days high school.\n",
    "Those were awkward.\n",
    "Three days college. I'm glad I took a day and hitchhiked around The Hive.\n",
    "You did come back different.\n",
    "Hi, Barry. Artie, growing a mustache? Looks good.\n",
    "Hear about Frankie?\n",
    "Yeah.\n",
    "You going to the funeral?\n",
    "No, I'm not going.\n",
    "Everybody knows, sting someone, you die.\n",
    "Don't waste it on a squirrel.\n",
    "Such a hothead.\n",
    "I guess he could have just gotten out of the way.\n",
    "I love this incorporating an amusement park into our day.\n",
    "That's why we don't need vacations.\n",
    "Boy, quite a bit of pomp under the circumstances.\n",
    "Well, Adam, today we are men.\n",
    "We are!\n",
    "Bee-men.\n",
    "Amen!\n",
    "Hallelujah!\n",
    "Students, faculty, distinguished bees,\n",
    "please welcome Dean Buzzwell.\n",
    "Welcome, New Hive City graduating class of 9:15.\n",
    "That concludes our ceremonies And begins your career at Honex Industries!\n",
    "Will we pick our job today?\n",
    "I heard it's just orientation.\n",
    "Heads up! Here we go.\n",
    "Keep your hands and antennas inside the tram at all times.\n",
    "Wonder what it'll be like?\n",
    "A little scary.\n",
    "Welcome to Honex, a division of Honesco and a part of the Hexagon Group.\n",
    "This is it!\n",
    "Wow.\n",
    "Wow.\n",
    "We know that you, as a bee, have worked your whole life to get to the point where you can work for your whole life.\n",
    "Honey begins when our valiant Pollen Jocks bring the nectar to The Hive.\n",
    "Our top-secret formula is automatically color-corrected, scent-adjusted and bubble-contoured into this soothing sweet syrup with its distinctive golden glow you know as... Honey!\n",
    "That girl was hot.\n",
    "She's my cousin!\n",
    "She is?\n",
    "Yes, we're all cousins.\n",
    "Right. You're right.\n",
    "At Honex, we constantly strive to improve every aspect of bee existence.\n",
    "These bees are stress-testing a new helmet technology.\n",
    "What do you think he makes?\n",
    "Not enough.\n",
    "Here we have our latest advancement, the Krelman.\n",
    "What does that do?\n",
    "Catches that little strand of honey that hangs after you pour it.\n",
    "Saves us millions.\n",
    "Can anyone work on the Krelman?\n",
    "Of course. Most bee jobs are small ones.\n",
    "But bees know that every small job, if it's done well, means a lot.\n",
    "But choose carefully because you'll stay in the job you pick for the rest of your life.\n",
    "The same job the rest of your life? I didn't know that.\n",
    "What's the difference?\n",
    "You'll be happy to know that bees, as a species, haven't had one day off in 27 million years.\n",
    "So you'll just work us to death?\n",
    "We'll sure try.\n",
    "Wow! That blew my mind!\n",
    "\"What's the difference?\"\n",
    "How can you say that?\n",
    "\"\"\""
   ]
  },
  {
   "cell_type": "code",
   "execution_count": 5,
   "metadata": {},
   "outputs": [
    {
     "name": "stdout",
     "output_type": "stream",
     "text": [
      "FINISHED!!!!!!!!!!!!!!!!!!!!\n"
     ]
    }
   ],
   "source": [
    "def stream_tts_to_file(input_string):\n",
    "    def _stream_tts():\n",
    "        p = pyaudio.PyAudio()\n",
    "        stream = p.open(format=8,\n",
    "                        channels=1,\n",
    "                        rate=24_000,\n",
    "                        output=True)\n",
    "        with client.audio.speech.with_streaming_response.create(\n",
    "            model=\"tts-1\",\n",
    "            voice=\"alloy\",\n",
    "            input=input_string,\n",
    "            response_format=\"pcm\"\n",
    "        ) as response:\n",
    "            for chunk in response.iter_bytes(1024):\n",
    "                stream.write(chunk)\n",
    "                \n",
    "        print(\"FINISHED!!!!!!!!!!!!!!!!!!!!\")\n",
    "\n",
    "\n",
    "    thread = threading.Thread(target=_stream_tts)\n",
    "    thread.start()\n",
    "\n",
    "# Example usage:\n",
    "stream_tts_to_file(inputstring)"
   ]
  }
 ],
 "metadata": {
  "kernelspec": {
   "display_name": "Python 3",
   "language": "python",
   "name": "python3"
  },
  "language_info": {
   "codemirror_mode": {
    "name": "ipython",
    "version": 3
   },
   "file_extension": ".py",
   "mimetype": "text/x-python",
   "name": "python",
   "nbconvert_exporter": "python",
   "pygments_lexer": "ipython3",
   "version": "3.11.6"
  }
 },
 "nbformat": 4,
 "nbformat_minor": 2
}

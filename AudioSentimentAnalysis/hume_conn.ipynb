{
 "cells": [
  {
   "cell_type": "markdown",
   "metadata": {},
   "source": [
    "## This File is a Test File for Sentiment Analysis using Hume\n",
    "### Requirements for running this file :\n",
    "    1. pip install \"hume[stream]\""
   ]
  },
  {
   "cell_type": "code",
   "execution_count": 7,
   "metadata": {},
   "outputs": [],
   "source": [
    "from hume import HumeBatchClient\n",
    "from hume.models.config import LanguageConfig\n",
    "from collections import defaultdict\n",
    "import json"
   ]
  },
  {
   "cell_type": "code",
   "execution_count": 8,
   "metadata": {},
   "outputs": [
    {
     "name": "stdout",
     "output_type": "stream",
     "text": [
      "Job(id=\"f77d0620-1358-45a8-8c8d-cfe5920bc412\")\n",
      "Running...\n"
     ]
    }
   ],
   "source": [
    "client = HumeBatchClient(\"8JxAevcGH7SMYv2fa7EFa1ljRgBJftxhjelB77EvTu0wTK8m\")\n",
    "filepaths = [\n",
    "    \"input/RecordingHappy.wav\",\n",
    "]\n",
    "config = LanguageConfig()\n",
    "job = client.submit_job(None, [config], files=filepaths)\n",
    "\n",
    "print(job)\n",
    "print(\"Running...\")\n",
    "\n",
    "details = job.await_complete()\n",
    "predictions = job.get_predictions()\n",
    "#job.download_predictions(\"predictions.json\")\n",
    "#print(\"Predictions downloaded to predictions.json\")\n"
   ]
  },
  {
   "cell_type": "markdown",
   "metadata": {},
   "source": [
    "Looping through the json file to extract the relevant score sentiment score and the transcription. Sentiment analysis is done word by word. Average for each sentiment is calculated for the entire audio."
   ]
  },
  {
   "cell_type": "code",
   "execution_count": 10,
   "metadata": {},
   "outputs": [
    {
     "name": "stdout",
     "output_type": "stream",
     "text": [
      "Average Sentiment Scores:\n",
      "  Admiration: 0.0241\n",
      "  Adoration: 0.0321\n",
      "  Aesthetic Appreciation: 0.0118\n",
      "  Amusement: 0.0333\n",
      "  Anger: 0.0045\n",
      "  Annoyance: 0.0107\n",
      "  Anxiety: 0.0083\n",
      "  Awe: 0.0280\n",
      "  Awkwardness: 0.0197\n",
      "  Boredom: 0.0088\n",
      "  Calmness: 0.1827\n",
      "  Concentration: 0.0162\n",
      "  Confusion: 0.0301\n",
      "  Contemplation: 0.0326\n",
      "  Contempt: 0.0353\n",
      "  Contentment: 0.2926\n",
      "  Craving: 0.0022\n",
      "  Desire: 0.0014\n",
      "  Determination: 0.0709\n",
      "  Disappointment: 0.0029\n",
      "  Disapproval: 0.0058\n",
      "  Disgust: 0.0019\n",
      "  Distress: 0.0062\n",
      "  Doubt: 0.0114\n",
      "  Ecstasy: 0.1837\n",
      "  Embarrassment: 0.0021\n",
      "  Empathic Pain: 0.0031\n",
      "  Enthusiasm: 0.2050\n",
      "  Entrancement: 0.0143\n",
      "  Envy: 0.0009\n",
      "  Excitement: 0.1786\n",
      "  Fear: 0.0029\n",
      "  Gratitude: 0.0897\n",
      "  Guilt: 0.0019\n",
      "  Horror: 0.0005\n",
      "  Interest: 0.0245\n",
      "  Joy: 0.5597\n",
      "  Love: 0.0483\n",
      "  Nostalgia: 0.0013\n",
      "  Pain: 0.0033\n",
      "  Pride: 0.0879\n",
      "  Realization: 0.0405\n",
      "  Relief: 0.0458\n",
      "  Romance: 0.0046\n",
      "  Sadness: 0.0041\n",
      "  Sarcasm: 0.0198\n",
      "  Satisfaction: 0.2606\n",
      "  Shame: 0.0037\n",
      "  Surprise (negative): 0.0040\n",
      "  Surprise (positive): 0.0617\n",
      "  Sympathy: 0.0050\n",
      "  Tiredness: 0.0097\n",
      "  Triumph: 0.1248\n",
      "\n",
      "Transcription:\n",
      "I am very very very. Very happy. So Happy. So happy very very, very, very happy.\n"
     ]
    }
   ],
   "source": [
    "# Initialize a dictionary to store total scores and counts\n",
    "emotion_totals = defaultdict(float)\n",
    "emotion_counts = defaultdict(int)\n",
    "\n",
    "# Initialize a list to store the transcription\n",
    "transcription = []\n",
    "\n",
    "# Extract and accumulate sentiment scores\n",
    "for prediction in predictions:\n",
    "    for result in prediction['results']['predictions']:\n",
    "        for model in result['models']['language']['grouped_predictions']:\n",
    "            for pred in model['predictions']:\n",
    "                text = pred['text']\n",
    "                transcription.append(text)\n",
    "                emotions = pred['emotions']\n",
    "                for emotion in emotions:\n",
    "                    name = emotion['name']\n",
    "                    score = emotion['score']\n",
    "                    emotion_totals[name] += score\n",
    "                    emotion_counts[name] += 1\n",
    "\n",
    "# Calculate and print average sentiment scores\n",
    "print(\"Average Sentiment Scores:\")\n",
    "for emotion, total_score in emotion_totals.items():\n",
    "    average_score = total_score / emotion_counts[emotion]\n",
    "    print(f\"  {emotion}: {average_score:.4f}\")\n",
    "\n",
    "# Print the transcription\n",
    "print(\"\\nTranscription:\")\n",
    "print(\" \".join(transcription))"
   ]
  },
  {
   "cell_type": "code",
   "execution_count": null,
   "metadata": {},
   "outputs": [],
   "source": []
  }
 ],
 "metadata": {
  "kernelspec": {
   "display_name": "Python 3",
   "language": "python",
   "name": "python3"
  },
  "language_info": {
   "codemirror_mode": {
    "name": "ipython",
    "version": 3
   },
   "file_extension": ".py",
   "mimetype": "text/x-python",
   "name": "python",
   "nbconvert_exporter": "python",
   "pygments_lexer": "ipython3",
   "version": "3.12.4"
  }
 },
 "nbformat": 4,
 "nbformat_minor": 2
}

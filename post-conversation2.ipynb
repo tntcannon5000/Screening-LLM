{
 "cells": [
  {
   "cell_type": "code",
   "execution_count": 1,
   "metadata": {},
   "outputs": [
    {
     "name": "stderr",
     "output_type": "stream",
     "text": [
      "USER_AGENT environment variable not set, consider setting it to identify your requests.\n"
     ]
    },
    {
     "data": {
      "text/plain": [
       "True"
      ]
     },
     "execution_count": 1,
     "metadata": {},
     "output_type": "execute_result"
    }
   ],
   "source": [
    "import os\n",
    "from dotenv import load_dotenv\n",
    "from joblib import load\n",
    "from pprint import pprint\n",
    "from src.utils.anthropicwrapper import ClaudeChat, ClaudeChatAssess\n",
    "from src.utils.humewrapper import HumeSentimentAnalyzer\n",
    "from src.modules import ConversationVerifier\n",
    "import time\n",
    "import traceback\n",
    "\n",
    "load_dotenv(os.path.join(os.path.dirname(os.getcwd()), \".env\"))"
   ]
  },
  {
   "cell_type": "code",
   "execution_count": null,
   "metadata": {},
   "outputs": [],
   "source": [
    "# -- Global Variables --\n",
    "timestamp = 1723758342"
   ]
  },
  {
   "cell_type": "code",
   "execution_count": null,
   "metadata": {},
   "outputs": [],
   "source": [
    "# Initialize PostConversationProcessor\n",
    "processor = PostConversationProcessor(timestamp)"
   ]
  }
 ],
 "metadata": {
  "kernelspec": {
   "display_name": "disso",
   "language": "python",
   "name": "python3"
  },
  "language_info": {
   "codemirror_mode": {
    "name": "ipython",
    "version": 3
   },
   "file_extension": ".py",
   "mimetype": "text/x-python",
   "name": "python",
   "nbconvert_exporter": "python",
   "pygments_lexer": "ipython3",
   "version": "3.12.4"
  }
 },
 "nbformat": 4,
 "nbformat_minor": 2
}

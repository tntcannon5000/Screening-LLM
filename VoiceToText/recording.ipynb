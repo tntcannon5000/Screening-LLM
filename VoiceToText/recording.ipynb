{
 "cells": [
  {
   "cell_type": "code",
   "execution_count": 2,
   "metadata": {},
   "outputs": [
    {
     "name": "stdout",
     "output_type": "stream",
     "text": [
      "Recording...\n"
     ]
    },
    {
     "name": "stderr",
     "output_type": "stream",
     "text": [
      "C:\\Users\\niran\\AppData\\Local\\Temp\\ipykernel_3208\\2507547388.py:42: RuntimeWarning: invalid value encountered in sqrt\n",
      "  rms = np.sqrt(np.mean(np.square(np.frombuffer(data, dtype=np.int16))))\n"
     ]
    },
    {
     "ename": "ValueError",
     "evalue": "need at least one array to concatenate",
     "output_type": "error",
     "traceback": [
      "\u001b[1;31m---------------------------------------------------------------------------\u001b[0m",
      "\u001b[1;31mValueError\u001b[0m                                Traceback (most recent call last)",
      "Cell \u001b[1;32mIn[2], line 60\u001b[0m\n\u001b[0;32m     57\u001b[0m         \u001b[38;5;28;01mbreak\u001b[39;00m\n\u001b[0;32m     59\u001b[0m \u001b[38;5;66;03m# Combine recorded chunks\u001b[39;00m\n\u001b[1;32m---> 60\u001b[0m audio \u001b[38;5;241m=\u001b[39m \u001b[43mnp\u001b[49m\u001b[38;5;241;43m.\u001b[39;49m\u001b[43mconcatenate\u001b[49m\u001b[43m(\u001b[49m\u001b[43m[\u001b[49m\u001b[43mnp\u001b[49m\u001b[38;5;241;43m.\u001b[39;49m\u001b[43mfrombuffer\u001b[49m\u001b[43m(\u001b[49m\u001b[43mchunk\u001b[49m\u001b[43m,\u001b[49m\u001b[43m \u001b[49m\u001b[43mdtype\u001b[49m\u001b[38;5;241;43m=\u001b[39;49m\u001b[43mnp\u001b[49m\u001b[38;5;241;43m.\u001b[39;49m\u001b[43mint16\u001b[49m\u001b[43m)\u001b[49m\u001b[43m \u001b[49m\u001b[38;5;28;43;01mfor\u001b[39;49;00m\u001b[43m \u001b[49m\u001b[43mchunk\u001b[49m\u001b[43m \u001b[49m\u001b[38;5;129;43;01min\u001b[39;49;00m\u001b[43m \u001b[49m\u001b[43mrecording\u001b[49m\u001b[43m]\u001b[49m\u001b[43m)\u001b[49m\n\u001b[0;32m     62\u001b[0m \u001b[38;5;66;03m# Save audio to WAV file\u001b[39;00m\n\u001b[0;32m     63\u001b[0m \u001b[38;5;28mprint\u001b[39m(\u001b[38;5;124m\"\u001b[39m\u001b[38;5;124mSaving audio to file...\u001b[39m\u001b[38;5;124m\"\u001b[39m)\n",
      "File \u001b[1;32m<__array_function__ internals>:200\u001b[0m, in \u001b[0;36mconcatenate\u001b[1;34m(*args, **kwargs)\u001b[0m\n",
      "\u001b[1;31mValueError\u001b[0m: need at least one array to concatenate"
     ]
    }
   ],
   "source": [
    "import sounddevice as sd\n",
    "import numpy as np\n",
    "from scipy.io.wavfile import write\n",
    "import pyaudio\n",
    "import wave\n",
    "\n",
    "# Define threshold for voice detection\n",
    "THRESHOLD = 500\n",
    "\n",
    "# Recording parameters\n",
    "fs = 44100  # Sample rate\n",
    "chunk_size = 1024  # Size of audio chunks\n",
    "duration = 5  # Maximum recording duration in seconds\n",
    "\n",
    "# Initialize PyAudio\n",
    "p = pyaudio.PyAudio()\n",
    "\n",
    "# Get default input device\n",
    "input_device_index = None\n",
    "for i in range(p.get_device_count()):\n",
    "    info = p.get_device_info_by_host_api_device_index(0, i)\n",
    "    if info[\"maxInputChannels\"] > 0:\n",
    "        input_device_index = i\n",
    "        break\n",
    "\n",
    "# Create stream\n",
    "stream = p.open(\n",
    "    input_device_index=input_device_index,\n",
    "    format=pyaudio.paInt16,\n",
    "    channels=1,\n",
    "    rate=fs,\n",
    "    input=True,\n",
    "    frames_per_buffer=chunk_size,\n",
    ")\n",
    "\n",
    "# Start recording\n",
    "recording = []\n",
    "recording_started = False\n",
    "print(\"Recording...\")\n",
    "for i in range(int(fs * duration / chunk_size)):\n",
    "    data = stream.read(chunk_size)\n",
    "    rms = np.sqrt(np.mean(np.square(np.frombuffer(data, dtype=np.int16))))\n",
    "\n",
    "    # Start recording if voice is detected\n",
    "    if rms > THRESHOLD and not recording_started:\n",
    "        print(\"Recording started!\")\n",
    "        recording_started = True\n",
    "        recording.append(data)\n",
    "\n",
    "    # Continue recording if voice is active\n",
    "    if recording_started:\n",
    "        recording.append(data)\n",
    "\n",
    "    # Stop recording if voice is silent for a short time\n",
    "    if recording_started and rms < THRESHOLD:\n",
    "        print(\"Recording stopped!\")\n",
    "        break\n",
    "\n",
    "# Combine recorded chunks\n",
    "audio = np.concatenate([np.frombuffer(chunk, dtype=np.int16) for chunk in recording])\n",
    "\n",
    "# Save audio to WAV file\n",
    "print(\"Saving audio to file...\")\n",
    "write(\"recording.wav\", fs, audio)\n",
    "print(\"Recording saved successfully!\")\n",
    "\n",
    "# Close stream and PyAudio\n",
    "stream.stop_stream()\n",
    "stream.close()\n",
    "p.terminate()"
   ]
  }
 ],
 "metadata": {
  "kernelspec": {
   "display_name": "Python 3",
   "language": "python",
   "name": "python3"
  },
  "language_info": {
   "codemirror_mode": {
    "name": "ipython",
    "version": 3
   },
   "file_extension": ".py",
   "mimetype": "text/x-python",
   "name": "python",
   "nbconvert_exporter": "python",
   "pygments_lexer": "ipython3",
   "version": "3.11.9"
  }
 },
 "nbformat": 4,
 "nbformat_minor": 2
}

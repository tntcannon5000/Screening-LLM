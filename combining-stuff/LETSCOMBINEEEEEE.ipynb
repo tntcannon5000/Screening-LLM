{
 "cells": [
  {
   "cell_type": "code",
   "execution_count": 4,
   "metadata": {},
   "outputs": [
    {
     "data": {
      "text/plain": [
       "True"
      ]
     },
     "execution_count": 4,
     "metadata": {},
     "output_type": "execute_result"
    }
   ],
   "source": [
    "import sounddevice as sd\n",
    "import numpy as np\n",
    "import scipy.io.wavfile as wav\n",
    "import whisper\n",
    "from langchain_google_genai import ChatGoogleGenerativeAI, GoogleGenerativeAIEmbeddings\n",
    "from langchain_community.vectorstores import Chroma\n",
    "from langchain.chains import ConversationChain\n",
    "from langchain.memory import ConversationBufferMemory\n",
    "from dotenv import load_dotenv, find_dotenv\n",
    "import os\n",
    "from openai import OpenAI\n",
    "import pyaudio\n",
    "import threading\n",
    "\n",
    "load_dotenv(find_dotenv())"
   ]
  },
  {
   "cell_type": "code",
   "execution_count": 3,
   "metadata": {},
   "outputs": [],
   "source": [
    "# --- Settings ---\n",
    "FS = 44100               # Sampling frequency\n",
    "THRESHOLD = 30          # Volume threshold for silence (adjust this)\n",
    "SILENCE_DURATION = 2   # Seconds of silence before stopping (adjust this)\n",
    "CHUNK_SIZE = 1024        # Process audio in chunks for efficiency"
   ]
  },
  {
   "cell_type": "code",
   "execution_count": null,
   "metadata": {},
   "outputs": [],
   "source": [
    "# Initialising Gemini and ConversationChain\n",
    "chat_model = ChatGoogleGenerativeAI(model=\"gemini-1.5-flash-latest\", max_output_tokens=4096)\n",
    "memory = ConversationBufferMemory()\n",
    "conversation = ConversationChain(\n",
    "    llm=chat_model,\n",
    "    memory=ConversationBufferMemory(),\n",
    ")\n",
    "\n",
    "# Initialising whisper\n",
    "model = whisper.load_model(\"base\", device=\"cuda\")\n",
    "\n"
   ]
  },
  {
   "cell_type": "code",
   "execution_count": null,
   "metadata": {},
   "outputs": [],
   "source": [
    "# Initialising text2speech\n",
    "tts_client = OpenAI(api_key=os.getenv(\"OPENAI_API_KEY\"))\n",
    "\n",
    "def stream_tts(input_string):\n",
    "    def _stream_tts():\n",
    "        p = pyaudio.PyAudio()\n",
    "        stream = p.open(format=8,\n",
    "                        channels=1,\n",
    "                        rate=24_000,\n",
    "                        output=True)\n",
    "        with tts_client.audio.speech.with_streaming_response.create(\n",
    "            model=\"tts-1\",\n",
    "            voice=\"nova\",\n",
    "            input=input_string,\n",
    "            response_format=\"pcm\"\n",
    "        ) as response:\n",
    "            for chunk in response.iter_bytes(1024):\n",
    "                stream.write(chunk)\n",
    "                \n",
    "        print(\"FINISHED!!!!!!!!!!!!!!!!!!!!\")\n",
    "\n",
    "\n",
    "    thread = threading.Thread(target=_stream_tts)\n",
    "    thread.start()\n"
   ]
  },
  {
   "cell_type": "code",
   "execution_count": null,
   "metadata": {},
   "outputs": [],
   "source": [
    "# Initialising speech2text\n",
    "\n"
   ]
  },
  {
   "cell_type": "code",
   "execution_count": null,
   "metadata": {},
   "outputs": [],
   "source": [
    "# --- Functions ---\n",
    "def is_silent(data):\n",
    "    rms = np.sqrt(np.mean(data**2))\n",
    "    print(\"RMS: \", rms)\n",
    "    return rms < THRESHOLD"
   ]
  },
  {
   "cell_type": "code",
   "execution_count": null,
   "metadata": {},
   "outputs": [],
   "source": [
    "while True:\n",
    "    "
   ]
  }
 ],
 "metadata": {
  "kernelspec": {
   "display_name": "Python 3",
   "language": "python",
   "name": "python3"
  },
  "language_info": {
   "codemirror_mode": {
    "name": "ipython",
    "version": 3
   },
   "file_extension": ".py",
   "mimetype": "text/x-python",
   "name": "python",
   "nbconvert_exporter": "python",
   "pygments_lexer": "ipython3",
   "version": "3.11.6"
  }
 },
 "nbformat": 4,
 "nbformat_minor": 2
}

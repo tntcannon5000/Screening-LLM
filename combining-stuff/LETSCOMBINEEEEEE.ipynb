{
 "cells": [
  {
   "cell_type": "code",
   "execution_count": null,
   "metadata": {},
   "outputs": [],
   "source": [
    "import sounddevice as sd\n",
    "import numpy as np\n",
    "import scipy.io.wavfile as wav\n",
    "import whisper\n",
    "from langchain_google_genai import ChatGoogleGenerativeAI, GoogleGenerativeAIEmbeddings\n",
    "from langchain_community.vectorstores import Chroma\n",
    "from langchain.chains import ConversationChain\n",
    "from langchain.memory import ConversationBufferMemory\n",
    "from dotenv import load_dotenv, find_dotenv\n",
    "import os\n",
    "from openai import OpenAI\n",
    "import pyaudio\n",
    "import threading\n",
    "import time\n",
    "\n",
    "load_dotenv(find_dotenv())"
   ]
  },
  {
   "cell_type": "code",
   "execution_count": null,
   "metadata": {},
   "outputs": [],
   "source": [
    "# --- Settings ---\n",
    "FS = 44100               # Sampling frequency\n",
    "THRESHOLD = 30          # Volume threshold for silence (adjust this)\n",
    "SILENCE_DURATION = 2   # Seconds of silence before stopping (adjust this)\n",
    "CHUNK_SIZE = 1024        # Process audio in chunks for efficiency"
   ]
  },
  {
   "cell_type": "code",
   "execution_count": null,
   "metadata": {},
   "outputs": [],
   "source": [
    "# Initialising Gemini and ConversationChain\n",
    "chat_model = ChatGoogleGenerativeAI(model=\"gemini-1.5-flash-latest\", max_output_tokens=4096)\n",
    "memory = ConversationBufferMemory()\n",
    "conversation = ConversationChain(\n",
    "    llm=chat_model,\n",
    "    memory=ConversationBufferMemory(),\n",
    ")\n",
    "\n",
    "# Initialising whisper\n",
    "model = whisper.load_model(\"base\", device=\"cuda\")"
   ]
  },
  {
   "cell_type": "code",
   "execution_count": null,
   "metadata": {},
   "outputs": [],
   "source": [
    "# Initialising text2speech\n",
    "tts_client = OpenAI(api_key=os.getenv(\"OPENAI_API_KEY\"))\n",
    "\n",
    "def stream_tts(input_string):\n",
    "    def _stream_tts():\n",
    "        p = pyaudio.PyAudio()\n",
    "        stream = p.open(format=8,\n",
    "                        channels=1,\n",
    "                        rate=24_000,\n",
    "                        output=True)\n",
    "        with tts_client.audio.speech.with_streaming_response.create(\n",
    "            model=\"tts-1\",\n",
    "            voice=\"nova\",\n",
    "            input=input_string,\n",
    "            response_format=\"pcm\"\n",
    "        ) as response:\n",
    "            for chunk in response.iter_bytes(1024):\n",
    "                stream.write(chunk)\n",
    "                \n",
    "        print(\"FINISHED!!!!!!!!!!!!!!!!!!!!\")\n",
    "        thread_done.set()\n",
    "\n",
    "    thread_done = threading.Event()\n",
    "\n",
    "    thread = threading.Thread(target=_stream_tts)\n",
    "    thread.start()\n",
    "    thread_done.wait()\n",
    "\n"
   ]
  },
  {
   "cell_type": "code",
   "execution_count": null,
   "metadata": {},
   "outputs": [],
   "source": [
    "# --- Functions ---\n",
    "def is_silent(data):\n",
    "    rms = np.sqrt(np.mean(data**2))\n",
    "    #print(\"RMS: \", rms)\n",
    "    return rms < THRESHOLD"
   ]
  },
  {
   "cell_type": "code",
   "execution_count": null,
   "metadata": {},
   "outputs": [],
   "source": [
    "# Initialising speech2text\n",
    "def record_speech():\n",
    "    print(\"Recording... Speak now!\")\n",
    "    audio_data = np.array([], dtype=np.int16)  # Initialize empty array\n",
    "    silent_chunks = 0\n",
    "\n",
    "    with sd.InputStream(samplerate=FS, channels=1, dtype='int16') as stream:\n",
    "        while True:\n",
    "            chunk, overflowed = stream.read(CHUNK_SIZE)\n",
    "            if overflowed:\n",
    "                print(\"Warning: Input overflowed!\")\n",
    "            audio_data = np.append(audio_data, chunk)\n",
    "\n",
    "            if is_silent(chunk):\n",
    "                #print(\"Silent Chunk Detected!!\")\n",
    "                silent_chunks += 1\n",
    "            else:\n",
    "                silent_chunks = 0\n",
    "\n",
    "            if silent_chunks > int(SILENCE_DURATION * FS / CHUNK_SIZE):\n",
    "                #print(\"Silence detected, stopping recording.\")\n",
    "                break\n",
    "    \n",
    "    wav.write(\"g97613g9f0g8.wav\", FS, audio_data)\n",
    "\n",
    "    return \"g97613g9f0g8.wav\"\n"
   ]
  },
  {
   "cell_type": "code",
   "execution_count": null,
   "metadata": {},
   "outputs": [],
   "source": [
    "while True:\n",
    "    # --- Record Speech ---\n",
    "    print(\"Recording in 2...\")\n",
    "    time.sleep(1)\n",
    "    print(\"Recording in 1...\")\n",
    "    time.sleep(1)\n",
    "    wav_file = record_speech()\n",
    "\n",
    "    # --- Speech to Text ---\n",
    "    print(\"Converting speech to text...\")\n",
    "    text = model.transcribe(wav_file, language=\"en\")\n",
    "    print(\"You said: \", text.get(\"text\"))\n",
    "\n",
    "    # --- Chatbot ---\n",
    "    print(\"Chatting...\")\n",
    "    response = conversation.invoke(text.get(\"text\"))\n",
    "\n",
    "    response2 = response.get(\"response\")\n",
    "    print(\"Chatbot: \", response2)\n",
    "\n",
    "    # --- Text to Speech ---\n",
    "    print(\"Converting text to speech...\")\n",
    "    stream_tts(response2)\n",
    "\n",
    "    print(\"Recording again!\")"
   ]
  }
 ],
 "metadata": {
  "kernelspec": {
   "display_name": "Python 3",
   "language": "python",
   "name": "python3"
  },
  "language_info": {
   "codemirror_mode": {
    "name": "ipython",
    "version": 3
   },
   "file_extension": ".py",
   "mimetype": "text/x-python",
   "name": "python",
   "nbconvert_exporter": "python",
   "pygments_lexer": "ipython3",
   "version": "3.11.6"
  }
 },
 "nbformat": 4,
 "nbformat_minor": 2
}

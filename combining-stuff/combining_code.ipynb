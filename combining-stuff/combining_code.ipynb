{
 "cells": [
  {
   "cell_type": "markdown",
   "metadata": {},
   "source": [
    "- [ ] Write down all the libraries that we need to install\n",
    "- [ ] Add Try catch for exceptions when moving to .py file"
   ]
  },
  {
   "cell_type": "markdown",
   "metadata": {},
   "source": [
    "## Important Notes\n",
    "### Packages to install :\n",
    "- pip install sounddevice\n",
    "- pip install numpy\n",
    "- Install ffmpeg (needed for intsalling local version of whisper)\n",
    "    - On Ubuntu or Debian\n",
    "      sudo apt update && sudo apt install ffmpeg\n",
    "    - On Arch Linux\n",
    "      sudo pacman -S ffmpeg\n",
    "    - On MacOs\n",
    "      brew install ffmpeg\n",
    "    - On Windows\n",
    "      winget install ffmpeg\n",
    "- pip install -U openai-whisper\n",
    "- pip install anthropic\n",
    "- pip install dotenv\n",
    "- pip install python-dotenv\n",
    "- pip install openai\n",
    "- pip install pyaudio\n",
    "- pip install keyboard\n",
    "- Installing pytorch\n",
    "  - Install Cuda Toolkit (https://docs.nvidia.com/cuda/cuda-installation-guide-microsoft-windows/index.html) -> Only needed for GPU acceleration\n",
    "  - Install Cudnn (https://developer.nvidia.com/cudnn) -> Only needed for GPU acceleration\n",
    "  - pInstall pytorch with or without cuda (https://pytorch.org/get-started/locally/)\n",
    "- pip install PyMuPDF -> To read the pdf files like CV's\n",
    "### Instructions :\n",
    "- There needs to be a .env in this notebook's working directory, which contains the api keys."
   ]
  },
  {
   "cell_type": "code",
   "execution_count": 1,
   "metadata": {},
   "outputs": [
    {
     "data": {
      "text/plain": [
       "True"
      ]
     },
     "execution_count": 1,
     "metadata": {},
     "output_type": "execute_result"
    }
   ],
   "source": [
    "import sounddevice as sd\n",
    "import numpy as np\n",
    "import scipy.io.wavfile as wav\n",
    "import whisper\n",
    "from AnthropicWrapper import ClaudeChatCV\n",
    "from dotenv import load_dotenv, find_dotenv\n",
    "import os\n",
    "from openai import OpenAI\n",
    "import pyaudio\n",
    "import threading\n",
    "import time\n",
    "import keyboard\n",
    "\n",
    "load_dotenv(find_dotenv())"
   ]
  },
  {
   "cell_type": "code",
   "execution_count": 2,
   "metadata": {},
   "outputs": [],
   "source": [
    "# --- Settings ---\n",
    "FS = 44100               # Sampling frequency\n",
    "THRESHOLD = 50          # Volume threshold for silence (adjust this)\n",
    "SILENCE_DURATION = 1.5   # Seconds of silence before stopping (adjust this)\n",
    "CHUNK_SIZE = 1024        # Process audio in chunks for efficiency\n",
    "SPEAKING_SPEED = 1.1     # Speed of speaking"
   ]
  },
  {
   "cell_type": "code",
   "execution_count": 3,
   "metadata": {},
   "outputs": [],
   "source": [
    "# --- Globals ---\n",
    "pause_loop = False"
   ]
  },
  {
   "cell_type": "code",
   "execution_count": 4,
   "metadata": {},
   "outputs": [],
   "source": [
    "# Initialising Claude and ConversationChain\n",
    "chat_model_name = \"claude-3-5-sonnet-20240620\"\n",
    "\n",
    "system_prompt = \"You are a friendly enthusiastic chatbot. You are here to help me with whatever tasks I need or to have a nice conversation. Be sure to keep your answers short and concise. Do not delve into super deep details or lists unless asked for.\"\n",
    "\n",
    "# Give the path to a CV in your disk\n",
    "pdf_path = \"D:\\Hidden Desktop\\OneDrive\\Cross Device\\Jobs Applications\\Graduating\\CV.pdf\"\n",
    "chat_model = ClaudeChatCV(chat_model_name, system_prompt, pdf_path)"
   ]
  },
  {
   "cell_type": "code",
   "execution_count": 5,
   "metadata": {},
   "outputs": [],
   "source": [
    "# Initialising whisper\n",
    "model = whisper.load_model(\"medium\", device=\"cuda\")"
   ]
  },
  {
   "cell_type": "code",
   "execution_count": 6,
   "metadata": {},
   "outputs": [],
   "source": [
    "# Initialising text2speech\n",
    "tts_client = OpenAI(api_key=os.getenv(\"OPENAI_API_KEY\"))\n",
    "\n",
    "def stream_tts(input_string):\n",
    "    def _stream_tts():\n",
    "        p = pyaudio.PyAudio()\n",
    "        stream = p.open(format=8,\n",
    "                        channels=1,\n",
    "                        rate=round(24_005 * SPEAKING_SPEED),\n",
    "                        output=True)\n",
    "        with tts_client.audio.speech.with_streaming_response.create(\n",
    "            model=\"tts-1\",\n",
    "            voice=\"nova\",\n",
    "            input=input_string,\n",
    "            response_format=\"pcm\"\n",
    "        ) as response:\n",
    "            for chunk in response.iter_bytes(1024):\n",
    "                stream.write(chunk)\n",
    "                \n",
    "        #print(\"FINISHED!!!!!!!!!!!!!!!!!!!!\")\n",
    "        thread_done.set()\n",
    "\n",
    "    thread_done = threading.Event()\n",
    "\n",
    "    thread = threading.Thread(target=_stream_tts)\n",
    "    thread.start()\n",
    "    thread_done.wait()"
   ]
  },
  {
   "cell_type": "code",
   "execution_count": 7,
   "metadata": {},
   "outputs": [],
   "source": [
    "# --- Functions ---\n",
    "def is_silent(data):\n",
    "    rms = np.sqrt(np.mean(data**2))\n",
    "    print(\"RMS: \", rms)\n",
    "    return rms < THRESHOLD"
   ]
  },
  {
   "cell_type": "code",
   "execution_count": 8,
   "metadata": {},
   "outputs": [],
   "source": [
    "# Initialising speech2text without silence detection\n",
    "def record_speech():\n",
    "    print(\"Recording... Speak now!\")\n",
    "    audio_data = np.array([], dtype=np.int16)  # Initialize empty array\n",
    "\n",
    "    with sd.InputStream(samplerate=FS, channels=1, dtype='int16') as stream:\n",
    "        while True:\n",
    "            chunk, overflowed = stream.read(CHUNK_SIZE)\n",
    "            if overflowed:\n",
    "                print(\"Warning: Input overflowed!\")\n",
    "            audio_data = np.append(audio_data, chunk)\n",
    "\n",
    "            if pause_loop:\n",
    "                break\n",
    "    \n",
    "    wav.write(\"g97613g9f0g8.wav\", FS, audio_data)\n",
    "\n",
    "    return \"g97613g9f0g8.wav\"\n"
   ]
  },
  {
   "cell_type": "code",
   "execution_count": 9,
   "metadata": {},
   "outputs": [],
   "source": [
    "def keyboard_listener():\n",
    "    global pause_loop\n",
    "    \n",
    "    def on_key_press(event):\n",
    "        global pause_loop\n",
    "        #print(\"Key pressed: {}\" .format(event.name))\n",
    "        if event.name == \"+\":\n",
    "            pause_loop = False\n",
    "            print(\"Set to continue on next loop\")\n",
    "        elif event.name == \"-\":\n",
    "            pause_loop = True\n",
    "            print(\"Set to pause on next loop\")\n",
    "    \n",
    "    keyboard.on_press(on_key_press)\n",
    "    keyboard.wait('esc')\n",
    "\n",
    "listener_thread = threading.Thread(target=keyboard_listener)\n",
    "listener_thread.start()"
   ]
  },
  {
   "cell_type": "code",
   "execution_count": 10,
   "metadata": {},
   "outputs": [
    {
     "name": "stdout",
     "output_type": "stream",
     "text": [
      "Recording speech...\n",
      "Recording... Speak now!\n",
      "Set to pause on next loop\n",
      "Converting speech to text...\n",
      "You said:   Hi, how's it going?\n",
      "Chatting...\n"
     ]
    },
    {
     "name": "stderr",
     "output_type": "stream",
     "text": [
      "Exception in thread Thread-11 (_stream_tts):\n",
      "Traceback (most recent call last):\n",
      "  File \"c:\\Users\\niran\\AppData\\Local\\Programs\\Python\\Python311\\Lib\\threading.py\", line 1045, in _bootstrap_inner\n",
      "    self.run()\n",
      "  File \"c:\\Users\\niran\\AppData\\Local\\Programs\\Python\\Python311\\Lib\\threading.py\", line 982, in run\n",
      "    self._target(*self._args, **self._kwargs)\n",
      "  File \"C:\\Users\\niran\\AppData\\Local\\Temp\\ipykernel_340\\3141505319.py\", line 7, in _stream_tts\n",
      "  File \"c:\\Users\\niran\\AppData\\Local\\Programs\\Python\\Python311\\Lib\\site-packages\\pyaudio\\__init__.py\", line 639, in open\n",
      "    stream = PyAudio.Stream(self, *args, **kwargs)\n",
      "             ^^^^^^^^^^^^^^^^^^^^^^^^^^^^^^^^^^^^^\n",
      "  File \"c:\\Users\\niran\\AppData\\Local\\Programs\\Python\\Python311\\Lib\\site-packages\\pyaudio\\__init__.py\", line 441, in __init__\n",
      "    self._stream = pa.open(**arguments)\n",
      "                   ^^^^^^^^^^^^^^^^^^^^\n",
      "TypeError: 'float' object cannot be interpreted as an integer\n"
     ]
    },
    {
     "name": "stdout",
     "output_type": "stream",
     "text": [
      "Chatbot:  Hello! It's going well, thank you for asking. How are you doing today? Is there anything I can help you with or would you like to chat about something in particular?\n",
      "Converting text to speech...\n"
     ]
    }
   ],
   "source": [
    "while True:\n",
    "    if not pause_loop:\n",
    "        # --- Record Speech ---\n",
    "        time.sleep(0.1)\n",
    "        print(\"Recording speech...\")\n",
    "        wav_file = record_speech()\n",
    "\n",
    "        # --- Speech to Text ---\n",
    "        print(\"Converting speech to text...\")\n",
    "        text = model.transcribe(wav_file, language=\"en\")\n",
    "        print(\"You said: \", text.get(\"text\"))\n",
    "\n",
    "        # --- Chatbot ---\n",
    "        print(\"Chatting...\")\n",
    "        response = chat_model.chat_with_history_doc(text.get(\"text\"))\n",
    "\n",
    "        print(\"Chatbot: \", response)\n",
    "\n",
    "        # --- Text to Speech ---\n",
    "        print(\"Converting text to speech...\")\n",
    "        stream_tts(response)\n",
    "\n",
    "    else:\n",
    "        time.sleep(0.1)"
   ]
  }
 ],
 "metadata": {
  "kernelspec": {
   "display_name": "Python 3",
   "language": "python",
   "name": "python3"
  },
  "language_info": {
   "codemirror_mode": {
    "name": "ipython",
    "version": 3
   },
   "file_extension": ".py",
   "mimetype": "text/x-python",
   "name": "python",
   "nbconvert_exporter": "python",
   "pygments_lexer": "ipython3",
   "version": "3.11.6"
  }
 },
 "nbformat": 4,
 "nbformat_minor": 2
}

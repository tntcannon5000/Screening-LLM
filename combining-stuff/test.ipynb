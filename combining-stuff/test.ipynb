{
 "cells": [
  {
   "cell_type": "code",
   "execution_count": null,
   "metadata": {},
   "outputs": [],
   "source": [
    "import conversationVerifier\n",
    "from dotenv import load_dotenv\n",
    "from joblib import load\n",
    "import os\n",
    "\n",
    "load_dotenv(os.path.join(os.path.dirname(os.getcwd()), \".env\"))"
   ]
  },
  {
   "cell_type": "code",
   "execution_count": null,
   "metadata": {},
   "outputs": [],
   "source": [
    "# -- Global Variables --\n",
    "chatlog = load(f'interviews/{1723589672}/joblib/conversation.joblib') # Loading in the list of dicts"
   ]
  },
  {
   "cell_type": "code",
   "execution_count": null,
   "metadata": {},
   "outputs": [],
   "source": [
    "def reformat_chatlog(chatlog):\n",
    "    dropped_context = chatlog[3:]\n",
    "    outputchatlog = []\n",
    "\n",
    "    for i in range(0, len(dropped_context), 2):\n",
    "        if i + 1 < len(dropped_context):\n",
    "            tempdict = {\n",
    "                'interviewer': dropped_context[i]['content'],\n",
    "                'candidate': dropped_context[i+1]['content']\n",
    "            }\n",
    "\n",
    "            outputchatlog.append(tempdict)\n",
    "        else:\n",
    "            tempdict = {\n",
    "                'interviewer': dropped_context[i]['content'],\n",
    "                'candidate': 'System - The candidate Ended the Interview'  \n",
    "            }\n",
    "            outputchatlog.append(tempdict)\n",
    "            break \n",
    "\n",
    "    return outputchatlog\n",
    "\n",
    "chatlog_chat = reformat_chatlog(chatlog)\n",
    "for item in chatlog_chat:\n",
    "  print(item)"
   ]
  },
  {
   "cell_type": "code",
   "execution_count": null,
   "metadata": {},
   "outputs": [],
   "source": [
    "e = conversationVerifier.process_qa_pair(chatlog_chat)"
   ]
  }
 ],
 "metadata": {
  "kernelspec": {
   "display_name": "Python 3",
   "language": "python",
   "name": "python3"
  },
  "language_info": {
   "codemirror_mode": {
    "name": "ipython",
    "version": 3
   },
   "file_extension": ".py",
   "mimetype": "text/x-python",
   "name": "python",
   "nbconvert_exporter": "python",
   "pygments_lexer": "ipython3",
   "version": "3.11.6"
  }
 },
 "nbformat": 4,
 "nbformat_minor": 2
}

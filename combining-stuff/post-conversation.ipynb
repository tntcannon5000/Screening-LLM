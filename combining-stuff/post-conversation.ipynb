{
 "cells": [
  {
   "cell_type": "code",
   "execution_count": 23,
   "metadata": {},
   "outputs": [],
   "source": [
    "from AnthropicWrapper import ClaudeChat, ClaudeChatCV\n",
    "from HumeWrapper import HumeSentimentAnalyzer\n",
    "#import conversationVerifier\n",
    "from dotenv import load_dotenv\n",
    "from joblib import load\n",
    "import os"
   ]
  },
  {
   "cell_type": "code",
   "execution_count": 24,
   "metadata": {},
   "outputs": [],
   "source": [
    "# -- Global Variables --\n",
    "timestamp = 1723589672\n",
    "chatlog = load(f'interviews/{timestamp}/joblib/conversation.joblib') # Loading in the list of dicts"
   ]
  },
  {
   "cell_type": "code",
   "execution_count": 25,
   "metadata": {},
   "outputs": [],
   "source": [
    "def reformat_chatlog(chatlog):\n",
    "    dropped_context = chatlog[3:]\n",
    "    outputchatlog = []\n",
    "\n",
    "    for i in range(0, len(dropped_context), 2):\n",
    "        if i + 1 < len(dropped_context):\n",
    "            tempdict = {\n",
    "                'interviewer': dropped_context[i]['content'],\n",
    "                'candidate': dropped_context[i+1]['content']\n",
    "            }\n",
    "\n",
    "            outputchatlog.append(tempdict)\n",
    "        else:\n",
    "            tempdict = {\n",
    "                'interviewer': dropped_context[i]['content'],\n",
    "                'candidate': ''  \n",
    "            }\n",
    "            outputchatlog.append(tempdict)\n",
    "            break \n",
    "\n",
    "    return outputchatlog\n",
    "\n",
    "chatlog_chat = reformat_chatlog(chatlog)\n",
    "# for item in chatlog_chat:\n",
    "#     print(item)"
   ]
  },
  {
   "cell_type": "code",
   "execution_count": 26,
   "metadata": {},
   "outputs": [
    {
     "data": {
      "text/plain": [
       "True"
      ]
     },
     "execution_count": 26,
     "metadata": {},
     "output_type": "execute_result"
    }
   ],
   "source": [
    "dotenv_path = os.path.join(os.path.dirname(os.getcwd()), \".env\")\n",
    "load_dotenv(dotenv_path)"
   ]
  },
  {
   "cell_type": "code",
   "execution_count": 37,
   "metadata": {},
   "outputs": [],
   "source": [
    "# Initialising the Sentiment Analyser\n",
    "sentiment_analyser = HumeSentimentAnalyzer(api_key=os.getenv(\"HUME_API_KEY\"))"
   ]
  },
  {
   "cell_type": "code",
   "execution_count": 38,
   "metadata": {},
   "outputs": [],
   "source": [
    "# Initialising Sentiment Summariser\n",
    "chat_model_name = \"claude-3-5-sonnet-20240620\"\n",
    "\n",
    "system_prompt = \"\"\"You are a skilled emotions analyst provided with a detailed breakdown of sentiment analysis scores from Hume.ai, for a single response in an interview to a question from the interviewer. The scores are split into 3 sections. All numbers are from 0 to 1, linearly scaling, with 1 being a very strong representation of the indicator in question.\n",
    "\n",
    "First, Emotions. This contains several human emotions with a numerical value indicating the strength of the corresponding emotion.\n",
    "Second, Sentiments. This contains a scale from 1 to 9, each containing a numerical value indicating the magnitude of the sentiment of the topic of the conversation. A negative topic such as murder will have a high value lower in the scale, such as 1 or 2, and a positive topic will have a high value from 0 to 1 higher in the scale such as 8 or 9.\n",
    "Third, Toxicity. This contains several toxic representations such as hate, insult, etc, with a value from 0 to 1 for each representation identified in the audio.\n",
    "\n",
    "Your job is to provide a concise detailed one sentence breakdown of how the individual was feeling for the particular scores provided. You must be highly objective as your job is to discern whether or not a candidate was exhibiting traits which would or would not be fitting for a successful interview. \n",
    "Model your answer beginning with something along the lines of \"For this particular response, the candidate...\".\n",
    "\"\"\"\n",
    "\n",
    "sentiment_summariser = ClaudeChat(chat_model_name, system_prompt)"
   ]
  },
  {
   "cell_type": "code",
   "execution_count": null,
   "metadata": {},
   "outputs": [],
   "source": [
    "# Initialising verifier\n",
    "#inaccuracies = conversationVerifier.process_qa_pair(chatlog[3], chatlog[4])"
   ]
  },
  {
   "cell_type": "code",
   "execution_count": 39,
   "metadata": {},
   "outputs": [],
   "source": [
    "# Initialising Evaluation LLM\n",
    "\n",
    "chat_model_name = \"claude-3-5-sonnet-20240620\"\n",
    "\n",
    "system_prompt = \"Claude, write me a sonnet about the beauty of the universe.\"\n",
    "\n",
    "candidate_evaluator = ClaudeChat(chat_model_name, system_prompt)"
   ]
  },
  {
   "cell_type": "code",
   "execution_count": 43,
   "metadata": {},
   "outputs": [
    {
     "name": "stdout",
     "output_type": "stream",
     "text": [
      "Analyzing audio...\n",
      "audio_1_1723589672.wav\n",
      "Analyzing audio...\n",
      "audio_2_1723589672.wav\n"
     ]
    }
   ],
   "source": [
    "import os\n",
    "\n",
    "# Specify the filepath\n",
    "filepath = f'interviews/{timestamp}/audio'\n",
    "\n",
    "\n",
    "# Get all files in the filepath\n",
    "files = [f for f in os.listdir(filepath) if os.path.isfile(os.path.join(filepath, f))]\n",
    "\n",
    "# Loop through each file\n",
    "sentiments = []\n",
    "for count, file in enumerate(files, 1):\n",
    "    # Print the file name\n",
    "\n",
    "    result = sentiment_analyser.analyze_audio(os.path.join(filepath, str(file)))\n",
    "    sentiments.append(result)\n",
    "    print(file)\n"
   ]
  },
  {
   "cell_type": "code",
   "execution_count": 44,
   "metadata": {},
   "outputs": [
    {
     "name": "stdout",
     "output_type": "stream",
     "text": [
      "{'emotions': {'Admiration': 0.0718897134065628, 'Adoration': 0.016121450811624527, 'Aesthetic Appreciation': 0.03637176752090454, 'Amusement': 0.03838168457150459, 'Anger': 0.00028867661603726447, 'Annoyance': 0.003975479863584042, 'Anxiety': 0.0010712327202782035, 'Awe': 0.012564522214233875, 'Awkwardness': 0.019182339310646057, 'Boredom': 0.026648489758372307, 'Calmness': 0.4037717878818512, 'Concentration': 0.02281680516898632, 'Confusion': 0.004914105869829655, 'Contemplation': 0.049012910574674606, 'Contempt': 0.017676912248134613, 'Contentment': 0.19272065162658691, 'Craving': 0.0006586601375602186, 'Desire': 0.0002682713675312698, 'Determination': 0.0063696494325995445, 'Disappointment': 0.0013081046054139733, 'Disapproval': 0.002958880504593253, 'Disgust': 0.0008353133453056216, 'Distress': 0.000400354532757774, 'Doubt': 0.003821812802925706, 'Ecstasy': 0.0012174175353720784, 'Embarrassment': 0.0014594719978049397, 'Empathic Pain': 0.0027105743065476418, 'Enthusiasm': 0.1882288008928299, 'Entrancement': 0.006244223099201918, 'Envy': 0.001559760537929833, 'Excitement': 0.05281208083033562, 'Fear': 0.00025645719142630696, 'Gratitude': 0.04959210380911827, 'Guilt': 0.00023471462191082537, 'Horror': 7.909645501058549e-05, 'Interest': 0.550707221031189, 'Joy': 0.09223398566246033, 'Love': 0.005825754255056381, 'Nostalgia': 0.005699569825083017, 'Pain': 0.0001399537577526644, 'Pride': 0.023188700899481773, 'Realization': 0.03202958405017853, 'Relief': 0.01061226800084114, 'Romance': 0.0006358685786835849, 'Sadness': 0.00044182210694998503, 'Sarcasm': 0.010870741680264473, 'Satisfaction': 0.17030522227287292, 'Shame': 0.0006713504553772509, 'Surprise (negative)': 0.0034026799257844687, 'Surprise (positive)': 0.08103831112384796, 'Sympathy': 0.00702174985781312, 'Tiredness': 0.0009839582489803433, 'Triumph': 0.009623604826629162}, 'sentiments': {'1': 0.001096182269975543, '2': 0.001897147623822093, '3': 0.002863975940272212, '4': 0.006566684693098068, '5': 0.05407249554991722, '6': 0.20381492376327515, '7': 0.3181041479110718, '8': 0.3100559115409851, '9': 0.17660857737064362}, 'toxicity': {'identity_hate': 0.003352828323841095, 'insult': 0.002978849457576871, 'obscene': 0.0019992836751043797, 'severe_toxic': 0.0020818589255213737, 'threat': 0.0030518712010234594, 'toxic': 0.007321970537304878}, 'transcription': 'Hi. Nice to meet.'}\n",
      "{'emotions': {'Admiration': 0.03166703134775162, 'Adoration': 0.005312752444297075, 'Aesthetic Appreciation': 0.01039819698780775, 'Amusement': 0.07329878211021423, 'Anger': 0.010363033041357994, 'Annoyance': 0.12212197482585907, 'Anxiety': 0.05498568341135979, 'Awe': 0.024261973798274994, 'Awkwardness': 0.07239596545696259, 'Boredom': 0.019004205241799355, 'Calmness': 0.027556514367461205, 'Concentration': 0.13024696707725525, 'Confusion': 0.031617965549230576, 'Contemplation': 0.06211012601852417, 'Contempt': 0.03843270614743233, 'Contentment': 0.014004332944750786, 'Craving': 0.001260540564544499, 'Desire': 0.001229093293659389, 'Determination': 0.16048207879066467, 'Disappointment': 0.03550057113170624, 'Disapproval': 0.07955458015203476, 'Disgust': 0.010080047883093357, 'Distress': 0.028189584612846375, 'Doubt': 0.06515414267778397, 'Ecstasy': 0.0019488093676045537, 'Embarrassment': 0.02337343990802765, 'Empathic Pain': 0.005147970747202635, 'Enthusiasm': 0.31437474489212036, 'Entrancement': 0.01243713591247797, 'Envy': 0.002650117501616478, 'Excitement': 0.17232848703861237, 'Fear': 0.042129166424274445, 'Gratitude': 0.0066578565165400505, 'Guilt': 0.0019750867504626513, 'Horror': 0.006709447130560875, 'Interest': 0.20522834360599518, 'Joy': 0.008774791844189167, 'Love': 0.0012123186606913805, 'Nostalgia': 0.004749351646751165, 'Pain': 0.0021906504407525063, 'Pride': 0.04207637906074524, 'Realization': 0.15612083673477173, 'Relief': 0.010932673700153828, 'Romance': 0.0004991439636796713, 'Sadness': 0.002453056164085865, 'Sarcasm': 0.11152853816747665, 'Satisfaction': 0.044846560806035995, 'Shame': 0.008478707633912563, 'Surprise (negative)': 0.16303490102291107, 'Surprise (positive)': 0.17215801775455475, 'Sympathy': 0.004788234829902649, 'Tiredness': 0.011367187835276127, 'Triumph': 0.05272988602519035}, 'sentiments': {'1': 0.011000147089362144, '2': 0.03426903858780861, '3': 0.04444768279790878, '4': 0.0781165286898613, '5': 0.11765725165605545, '6': 0.18817873299121857, '7': 0.2482929229736328, '8': 0.20120032131671906, '9': 0.08705183118581772}, 'toxicity': {'identity_hate': 0.002241102745756507, 'insult': 0.0025651995092630386, 'obscene': 0.004263587761670351, 'severe_toxic': 0.0016707805916666985, 'threat': 0.002405294682830572, 'toxic': 0.027515018358826637}, 'transcription': \"Yeah. Sure. I'd be happy to. I have a good amount of experience with retrieval will augment to generate pipelines. In my current job position, I developed a pipeline for web scraping, A website, which is determined by a a previous step in our system. Oh, my god. Dude. Bro, just give me a minute.\"}\n"
     ]
    }
   ],
   "source": [
    "for sentiment in sentiments:\n",
    "    print(sentiment)"
   ]
  }
 ],
 "metadata": {
  "kernelspec": {
   "display_name": "Python 3",
   "language": "python",
   "name": "python3"
  },
  "language_info": {
   "codemirror_mode": {
    "name": "ipython",
    "version": 3
   },
   "file_extension": ".py",
   "mimetype": "text/x-python",
   "name": "python",
   "nbconvert_exporter": "python",
   "pygments_lexer": "ipython3",
   "version": "3.11.6"
  }
 },
 "nbformat": 4,
 "nbformat_minor": 2
}

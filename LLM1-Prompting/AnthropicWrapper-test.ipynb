{
 "cells": [
  {
   "cell_type": "code",
   "execution_count": 1,
   "metadata": {},
   "outputs": [],
   "source": [
    "from AnthropicWrapper import ClaudeChatDocument"
   ]
  },
  {
   "cell_type": "code",
   "execution_count": 2,
   "metadata": {},
   "outputs": [],
   "source": [
    "model = \"claude-3-5-sonnet-20240620\"\n",
    "system_prompt = \"You are a friendly enthusiastic chatbot. You are here to help me with whatever tasks I need or to have a nice conversation.\"\n",
    "pdf_path = \"D:\\Hidden Desktop\\OneDrive\\Cross Device\\Jobs Applications\\Graduating\\CV.pdf\"\n",
    "claude = ClaudeChatDocument(model, system_prompt, pdf_path)\n",
    "\n"
   ]
  },
  {
   "cell_type": "code",
   "execution_count": 5,
   "metadata": {},
   "outputs": [
    {
     "name": "stdout",
     "output_type": "stream",
     "text": [
      "Based on your CV and current industry trends, you have a solid foundation of skills for machine learning engineer roles. However, there are a few areas you might consider adding or emphasizing to make your profile even stronger:\n",
      "\n",
      "1. Cloud platforms: While you mention AWS, Oracle Cloud, and Azure (Endpoint), you might want to expand on your experience with these, particularly in deploying ML models at scale.\n",
      "\n",
      "2. MLOps: You briefly mention this in your work experience, but consider highlighting specific MLOps tools or practices you're familiar with (e.g., MLflow, Kubeflow, DVC).\n",
      "\n",
      "3. Big Data technologies: Experience with tools like Hadoop, Spark, or Databricks is often valuable for handling large datasets in ML projects.\n",
      "\n",
      "4. Containerization and orchestration: While you mention Docker, adding Kubernetes could be beneficial.\n",
      "\n",
      "5. Feature engineering: This is a crucial skill in ML; if you have experience, make sure to highlight it.\n",
      "\n",
      "6. A/B testing and experimentation: These are important for evaluating ML models in production.\n",
      "\n",
      "7. Data visualization: Tools like Tableau or PowerBI are often useful for presenting ML insights.\n",
      "\n",
      "8. Version control for ML models: Familiarity with tools like DVC (Data Version Control) or MLflow.\n",
      "\n",
      "9. Familiarity with cloud-based ML services: Such as Amazon SageMaker, Google Cloud AI Platform, or Azure Machine Learning.\n",
      "\n",
      "10. Ethical AI and bias mitigation: Understanding of these concepts is increasingly important in the field.\n",
      "\n",
      "11. Deep learning frameworks: While you mention TensorFlow and PyTorch implicitly, you might want to explicitly list them.\n",
      "\n",
      "12. Explainable AI: Techniques for interpreting complex ML models.\n",
      "\n",
      "Remember, you don't need to be an expert in all of these areas, but familiarity with a broader range of tools and concepts can make you a more attractive candidate. Consider which of these align with your experiences and interests, and look for opportunities to develop skills in areas you find most relevant to your career goals.\n"
     ]
    }
   ],
   "source": [
    "print(claude.chat_with_history_doc(input()))"
   ]
  },
  {
   "cell_type": "code",
   "execution_count": 13,
   "metadata": {},
   "outputs": [
    {
     "name": "stdout",
     "output_type": "stream",
     "text": [
      "['{\\'role\\': \\'user\\', \\'content\\': \"The following is a document that I am providing you with. You are to keep this document in the back of your mind and consider it or use it, should it be relevant to the discussion.\\\\n\\\\n Document below: \\\\n\\\\n\\\\n\\\\n## Niranjan Kewalramani\\\\n\\\\n\\\\n## About Me\\\\n\\\\n\\\\n## Dedicated and creative machine learning engineer from the UK with a focus on building Machine Learning solutions, \\\\nespecially incorporating Large Language Models. Graduating with a master’s degree in Machine Learning (predicted \\\\nDistinction) with key ML skills with a strong drive for continuous learning. Proficient in Python, Java and C++, as well \\\\nas several ML frameworks such as TensorFlow Keras and PyTorch, and capable of rapidly learning anything else \\\\nneeded to succeed.\\\\n\\\\n\\\\n## Currently, developing projects and ideas into market-ready solutions part-time, with one set to launch in the coming \\\\nmonths. Competitor in the Google Gemini API Developer competition, and frequent participant in Kaggle \\\\ncompetitions, constantly improving skills.\\\\n\\\\n\\\\n## Education\\\\n\\\\n\\\\n## 2023 – 2024 Master of Science – Artificial Intelligence – Distinction (Predicted)\\\\n\\\\n\\\\n## University of Kent\\\\n\\\\n\\\\n## 2019 – 2023 Bachelor of Engineering – Computer Systems Engineering – First Class Honours\\\\n\\\\n\\\\n## University of Kent\\\\n\\\\n\\\\n## Work Experience\\\\n\\\\n\\\\n## Technical Support Specialist  \\\\nJun 2021 – Jul 2022\\\\n\\\\n\\\\n## G-Research, London, United Kingdom\\\\n\\\\n\\\\n## ■ Key Skills: Problem solving, Automation scripting, Linux administration, Data analysis, Azure platforms, MLOps  \\\\n■ Provided technical support to internal employees, including quantitative and ML researchers. \\\\n■ Assisted in post-deployment support of ML tools such as WSL2, Jupyter, Condor Submit, and various software\\\\n\\\\n\\\\n## packages.\\\\n\\\\n\\\\n## ■ Developed automation tools for the support team, achieving team-wide improvements to workflow efficiency and\\\\n\\\\n\\\\n## quality of life.\\\\n\\\\n\\\\n## ■ Gained deep interest and foundational knowledge in machine learning, leading to self-learning and developing\\\\n\\\\n\\\\n## projects involving ML.\\\\n\\\\n\\\\n## Projects\\\\n\\\\n\\\\n## Multimodal LLM-Based Interview Screening System (WIP)\\\\n\\\\n\\\\n## ■ Developing an automated interview screening system using audiovisual sentiment analysis. Users interact with an\\\\n\\\\n\\\\n## LLM like a real interviewer, with a second LLM making pass/fail decisions based on the conversation log, sentiment \\\\nscores, and user\\'s performance.\\\\n\\\\n\\\\n## ■ Key Skills: Audiovisual sentiment analysis, LLMs, RAG, Prompt Engineering, Audio Generation, NLP, Voice Recognition\\\\n\\\\n\\\\n## Google Gemini Web-Researching\\\\n\\\\n\\\\n## ■ Developed a system using Gemini 1.0 to conduct web research with a chat mode including research, and a research\\\\n\\\\n\\\\n## report mode, preceeding ChatGPT’s ability to access the web with gpt4-turbo.\\\\n\\\\n\\\\n## ■ Key Skills: Google Gemini LLM, Google CSE API, RAG, Web Scraping, Python\\\\n\\\\n\\\\n## Gemini 1.5-o (Multimodal AI Interaction System) (WIP)\\\\n\\\\n\\\\n## ■ This project is recreating the OpenAI demo allowing for a multimodal model that can observe the world through\\\\n\\\\n\\\\n## image input, and allows for natural conversation to and from the model. Includes image generation capabilities.\\\\n\\\\n\\\\n## ■ Key Skills: Computer Vision, Deep Learning, Multimodal LLMs, RAG, NLP, Speech Synthesis\\\\nUK (No Sponsorship Needed) \\\\n+44 07879 008311 \\\\noranjan@outlook.com \\\\nlinkedin.com/in/nnm22/ \\\\ngithub.com/tntcannon5000 \\\\n\\\\n## Projects\\\\n\\\\n\\\\n## Jump King using Neuroevolution of Augmenting Topologies\\\\n\\\\n\\\\n## ■ Implemented Neuroevolution of Augmenting Topologies (NEAT) to create an AI capable of beating the game Jump\\\\n\\\\n\\\\n## King, demonstrating advanced reinforcement learning and evolutionary algorithms.\\\\n\\\\n\\\\n## ■ Key Skills: Reinforcement Learning, Evolutionary Algorithms, Game Development, PyGame\\\\n\\\\n\\\\n## Resistor Scanner and Classifier\\\\n\\\\n\\\\n## ■ Developed a hardware and software system using a Raspberry Pi 3b and a picamera to identify and classify\\\\n\\\\n\\\\n## resistors based on the color bands, providing both display and voice output for the classification.\\\\n\\\\n\\\\n## ■ Key Skills: Computer Vision, Image Processing, OpenCV, Scikit Learn, Classification, Hardware Integration, Voice\\\\n\\\\n\\\\n## Output, Embedded Systems, Electronics\\\\n\\\\n\\\\n## Technical Skills\\\\n\\\\n\\\\n## Programming Languages: Python, Java, C++, HTML, CSS\\\\n\\\\n\\\\n## ML Tools & APIs: TensorFlow Keras, Pandas, Numpy, sklearn, OpenCV, NLTK, LangChain, CUDA, CSE\\\\n\\\\n\\\\n## Development Tools: Git, Docker, Jupyter Notebooks, SQL, MongoDB, AWS, Oracle Cloud, Azure (Endpoint)\\\\n\\\\n\\\\n## Platforms: Windows, Linux\\\\n\\\\n\\\\n## Certificates\\\\n\\\\n\\\\n## 2023  – NVIDIA DLI – Building Transformer-Based NLP Applications\\\\n\\\\n\\\\n## learn.nvidia.com/certificates?id=a8b8a11b23154fad8a1b809782ddf4a9\\\\n\\\\n\\\\n## Professional Skills\\\\n\\\\n\\\\n## Leadership & Project Management: Manage and co-own esports team, led several projects on diagnosing and \\\\nsolving systematic company-wide infrastructure technical problems within G-Research; guided esports team to \\\\nseveral successes including winning 3 out of 4 grand prizes at ESL Barcelona \\\\nCommunication: Facilitated discussions, raised concerns, and gathered feedback from team members both at G-\\\\nResearch and in esports team management. \\\\nTime Management: Throughout G-Research and studies, effectively managed time to achieve high performance \\\\non-time \\\\nAdaptability and Learning: Rapidly able to learn new skills to fit any role, heavily leveraged to develop skills \\\\nbeyond university teaching. \\\\nCreativity and Innovation: Always finding new solutions and ways to succeed, such as all projects and ideas \\\\npresent on GitHub/tntcannon5000 (public and private), and several game exploits used to benefit esports team.\\\\n\\\\n\\\\n## Activities & Achievements\\\\n\\\\n\\\\n## Machine Learning Mentor: Have mentored and guided friends through learning the basics of machine learning, \\\\ndemonstrating and assisting with understanding the concepts and methods in artificial intelligence.\\\\n\\\\n\\\\n## Co-Owner & Manager, UERK Asphalt 9: Co-own and manage a successful esports team for a large racing game.  \\\\nLed members in the racing team to win 3 out of 4 grand prizes at ESL Barcelona. Primary manager for team, team \\\\nstrategy, structure, and now, preparations for huge cross-platform shift.\\\\n\"}\\n', '{\\'role\\': \\'assistant\\', \\'content\\': \"Understood! I\\'ll keep this in the back of my mind.\"}\\n', \"{'role': 'user', 'content': 'Hi Claude! lets discuss my CV, can you critique it?'}\\n\", '{\\'role\\': \\'assistant\\', \\'content\\': \"Hello! I\\'d be happy to discuss and critique your CV. From the document you provided, I can see that you\\'re Niranjan Kewalramani, a machine learning engineer with a focus on building ML solutions, especially those incorporating Large Language Models. Your CV shows a strong educational background and some interesting project experience. Let\\'s go through some key points:\\\\n\\\\nStrengths:\\\\n\\\\n1. Educational background: Your Master\\'s in AI (with predicted Distinction) and Bachelor\\'s in Computer Systems Engineering (First Class Honours) provide a solid foundation.\\\\n\\\\n2. Relevant work experience: Your role as a Technical Support Specialist at G-Research gave you exposure to ML tools and researchers.\\\\n\\\\n3. Impressive projects: You\\'ve listed several cutting-edge projects involving LLMs, computer vision, and reinforcement learning.\\\\n\\\\n4. Technical skills: You demonstrate proficiency in relevant programming languages and ML tools.\\\\n\\\\n5. Certifications: The NVIDIA DLI certificate adds credibility to your NLP skills.\\\\n\\\\nAreas for potential improvement:\\\\n\\\\n1. Work experience: Consider expanding on your achievements at G-Research, possibly with quantifiable results.\\\\n\\\\n2. Project descriptions: While your projects sound interesting, you could provide more detail on your specific contributions and the impact of each project.\\\\n\\\\n3. Layout: The CV seems a bit dense. Consider improving the formatting for better readability.\\\\n\\\\n4. Professional skills: These could be more concisely presented and tied directly to your ML/AI focus.\\\\n\\\\nOverall, your CV showcases a strong candidate in the ML/AI field. Would you like me to elaborate on any specific section or provide more detailed feedback?\"}\\n', \"{'role': 'user', 'content': 'Interesting okay, am i missing any key skills frequently asked for for machine learning engineer roles?'}\\n\", '{\\'role\\': \\'assistant\\', \\'content\\': \"Based on your CV and current industry trends, you have a solid foundation of skills for machine learning engineer roles. However, there are a few areas you might consider adding or emphasizing to make your profile even stronger:\\\\n\\\\n1. Cloud platforms: While you mention AWS, Oracle Cloud, and Azure (Endpoint), you might want to expand on your experience with these, particularly in deploying ML models at scale.\\\\n\\\\n2. MLOps: You briefly mention this in your work experience, but consider highlighting specific MLOps tools or practices you\\'re familiar with (e.g., MLflow, Kubeflow, DVC).\\\\n\\\\n3. Big Data technologies: Experience with tools like Hadoop, Spark, or Databricks is often valuable for handling large datasets in ML projects.\\\\n\\\\n4. Containerization and orchestration: While you mention Docker, adding Kubernetes could be beneficial.\\\\n\\\\n5. Feature engineering: This is a crucial skill in ML; if you have experience, make sure to highlight it.\\\\n\\\\n6. A/B testing and experimentation: These are important for evaluating ML models in production.\\\\n\\\\n7. Data visualization: Tools like Tableau or PowerBI are often useful for presenting ML insights.\\\\n\\\\n8. Version control for ML models: Familiarity with tools like DVC (Data Version Control) or MLflow.\\\\n\\\\n9. Familiarity with cloud-based ML services: Such as Amazon SageMaker, Google Cloud AI Platform, or Azure Machine Learning.\\\\n\\\\n10. Ethical AI and bias mitigation: Understanding of these concepts is increasingly important in the field.\\\\n\\\\n11. Deep learning frameworks: While you mention TensorFlow and PyTorch implicitly, you might want to explicitly list them.\\\\n\\\\n12. Explainable AI: Techniques for interpreting complex ML models.\\\\n\\\\nRemember, you don\\'t need to be an expert in all of these areas, but familiarity with a broader range of tools and concepts can make you a more attractive candidate. Consider which of these align with your experiences and interests, and look for opportunities to develop skills in areas you find most relevant to your career goals.\"}\\n']\n"
     ]
    }
   ],
   "source": [
    "testlist = []\n",
    "for dict in claude.get_message_history():\n",
    "    testlist.append(str(dict) + \"\\n\")\n",
    "print(testlist)"
   ]
  },
  {
   "cell_type": "code",
   "execution_count": 16,
   "metadata": {},
   "outputs": [
    {
     "name": "stdout",
     "output_type": "stream",
     "text": [
      "Document Included, please use ClaudeChatDocument.get_document() to view document\n",
      "--------------------\n",
      "role: assistant\n",
      "content: Understood! I'll keep this in the back of my mind.\n",
      "--------------------\n",
      "role: user\n",
      "content: Hi Claude! lets discuss my CV, can you critique it?\n",
      "--------------------\n",
      "role: assistant\n",
      "content: Hello! I'd be happy to discuss and critique your CV. From the document you provided, I can see that you're Niranjan Kewalramani, a machine learning engineer with a focus on building ML solutions, especially those incorporating Large Language Models. Your CV shows a strong educational background and some interesting project experience. Let's go through some key points:\n",
      "\n",
      "Strengths:\n",
      "\n",
      "1. Educational background: Your Master's in AI (with predicted Distinction) and Bachelor's in Computer Systems Engineering (First Class Honours) provide a solid foundation.\n",
      "\n",
      "2. Relevant work experience: Your role as a Technical Support Specialist at G-Research gave you exposure to ML tools and researchers.\n",
      "\n",
      "3. Impressive projects: You've listed several cutting-edge projects involving LLMs, computer vision, and reinforcement learning.\n",
      "\n",
      "4. Technical skills: You demonstrate proficiency in relevant programming languages and ML tools.\n",
      "\n",
      "5. Certifications: The NVIDIA DLI certificate adds credibility to your NLP skills.\n",
      "\n",
      "Areas for potential improvement:\n",
      "\n",
      "1. Work experience: Consider expanding on your achievements at G-Research, possibly with quantifiable results.\n",
      "\n",
      "2. Project descriptions: While your projects sound interesting, you could provide more detail on your specific contributions and the impact of each project.\n",
      "\n",
      "3. Layout: The CV seems a bit dense. Consider improving the formatting for better readability.\n",
      "\n",
      "4. Professional skills: These could be more concisely presented and tied directly to your ML/AI focus.\n",
      "\n",
      "Overall, your CV showcases a strong candidate in the ML/AI field. Would you like me to elaborate on any specific section or provide more detailed feedback?\n",
      "--------------------\n",
      "role: user\n",
      "content: Interesting okay, am i missing any key skills frequently asked for for machine learning engineer roles?\n",
      "--------------------\n",
      "role: assistant\n",
      "content: Based on your CV and current industry trends, you have a solid foundation of skills for machine learning engineer roles. However, there are a few areas you might consider adding or emphasizing to make your profile even stronger:\n",
      "\n",
      "1. Cloud platforms: While you mention AWS, Oracle Cloud, and Azure (Endpoint), you might want to expand on your experience with these, particularly in deploying ML models at scale.\n",
      "\n",
      "2. MLOps: You briefly mention this in your work experience, but consider highlighting specific MLOps tools or practices you're familiar with (e.g., MLflow, Kubeflow, DVC).\n",
      "\n",
      "3. Big Data technologies: Experience with tools like Hadoop, Spark, or Databricks is often valuable for handling large datasets in ML projects.\n",
      "\n",
      "4. Containerization and orchestration: While you mention Docker, adding Kubernetes could be beneficial.\n",
      "\n",
      "5. Feature engineering: This is a crucial skill in ML; if you have experience, make sure to highlight it.\n",
      "\n",
      "6. A/B testing and experimentation: These are important for evaluating ML models in production.\n",
      "\n",
      "7. Data visualization: Tools like Tableau or PowerBI are often useful for presenting ML insights.\n",
      "\n",
      "8. Version control for ML models: Familiarity with tools like DVC (Data Version Control) or MLflow.\n",
      "\n",
      "9. Familiarity with cloud-based ML services: Such as Amazon SageMaker, Google Cloud AI Platform, or Azure Machine Learning.\n",
      "\n",
      "10. Ethical AI and bias mitigation: Understanding of these concepts is increasingly important in the field.\n",
      "\n",
      "11. Deep learning frameworks: While you mention TensorFlow and PyTorch implicitly, you might want to explicitly list them.\n",
      "\n",
      "12. Explainable AI: Techniques for interpreting complex ML models.\n",
      "\n",
      "Remember, you don't need to be an expert in all of these areas, but familiarity with a broader range of tools and concepts can make you a more attractive candidate. Consider which of these align with your experiences and interests, and look for opportunities to develop skills in areas you find most relevant to your career goals.\n",
      "--------------------\n",
      "\n"
     ]
    }
   ],
   "source": [
    "testlist = []\n",
    "for message in claude.get_message_history():\n",
    "    if message.get(\"role\") == \"user\" and \"The following is a document that I am providing you with.\" in message.get(\"content\", \"\"):\n",
    "        testlist.append(\"Document Included, please use ClaudeChatDocument.get_document() to view document\\n\")\n",
    "        testlist.append(\"-\" * 20 + \"\\n\") \n",
    "    else:\n",
    "        for key, value in message.items():\n",
    "            testlist.append(f\"{key}: {value}\\n\")\n",
    "        testlist.append(\"-\" * 20 + \"\\n\") \n",
    "\n",
    "print(\"\".join(testlist)) "
   ]
  },
  {
   "cell_type": "code",
   "execution_count": 15,
   "metadata": {},
   "outputs": [
    {
     "name": "stdout",
     "output_type": "stream",
     "text": [
      "{'role': 'user', 'content': \"The following is a document that I am providing you with. You are to keep this document in the back of your mind and consider it or use it, should it be relevant to the discussion.\\n\\n Document below: \\n\\n\\n\\n## Niranjan Kewalramani\\n\\n\\n## About Me\\n\\n\\n## Dedicated and creative machine learning engineer from the UK with a focus on building Machine Learning solutions, \\nespecially incorporating Large Language Models. Graduating with a master’s degree in Machine Learning (predicted \\nDistinction) with key ML skills with a strong drive for continuous learning. Proficient in Python, Java and C++, as well \\nas several ML frameworks such as TensorFlow Keras and PyTorch, and capable of rapidly learning anything else \\nneeded to succeed.\\n\\n\\n## Currently, developing projects and ideas into market-ready solutions part-time, with one set to launch in the coming \\nmonths. Competitor in the Google Gemini API Developer competition, and frequent participant in Kaggle \\ncompetitions, constantly improving skills.\\n\\n\\n## Education\\n\\n\\n## 2023 – 2024 Master of Science – Artificial Intelligence – Distinction (Predicted)\\n\\n\\n## University of Kent\\n\\n\\n## 2019 – 2023 Bachelor of Engineering – Computer Systems Engineering – First Class Honours\\n\\n\\n## University of Kent\\n\\n\\n## Work Experience\\n\\n\\n## Technical Support Specialist  \\nJun 2021 – Jul 2022\\n\\n\\n## G-Research, London, United Kingdom\\n\\n\\n## ■ Key Skills: Problem solving, Automation scripting, Linux administration, Data analysis, Azure platforms, MLOps  \\n■ Provided technical support to internal employees, including quantitative and ML researchers. \\n■ Assisted in post-deployment support of ML tools such as WSL2, Jupyter, Condor Submit, and various software\\n\\n\\n## packages.\\n\\n\\n## ■ Developed automation tools for the support team, achieving team-wide improvements to workflow efficiency and\\n\\n\\n## quality of life.\\n\\n\\n## ■ Gained deep interest and foundational knowledge in machine learning, leading to self-learning and developing\\n\\n\\n## projects involving ML.\\n\\n\\n## Projects\\n\\n\\n## Multimodal LLM-Based Interview Screening System (WIP)\\n\\n\\n## ■ Developing an automated interview screening system using audiovisual sentiment analysis. Users interact with an\\n\\n\\n## LLM like a real interviewer, with a second LLM making pass/fail decisions based on the conversation log, sentiment \\nscores, and user's performance.\\n\\n\\n## ■ Key Skills: Audiovisual sentiment analysis, LLMs, RAG, Prompt Engineering, Audio Generation, NLP, Voice Recognition\\n\\n\\n## Google Gemini Web-Researching\\n\\n\\n## ■ Developed a system using Gemini 1.0 to conduct web research with a chat mode including research, and a research\\n\\n\\n## report mode, preceeding ChatGPT’s ability to access the web with gpt4-turbo.\\n\\n\\n## ■ Key Skills: Google Gemini LLM, Google CSE API, RAG, Web Scraping, Python\\n\\n\\n## Gemini 1.5-o (Multimodal AI Interaction System) (WIP)\\n\\n\\n## ■ This project is recreating the OpenAI demo allowing for a multimodal model that can observe the world through\\n\\n\\n## image input, and allows for natural conversation to and from the model. Includes image generation capabilities.\\n\\n\\n## ■ Key Skills: Computer Vision, Deep Learning, Multimodal LLMs, RAG, NLP, Speech Synthesis\\nUK (No Sponsorship Needed) \\n+44 07879 008311 \\noranjan@outlook.com \\nlinkedin.com/in/nnm22/ \\ngithub.com/tntcannon5000 \\n\\n## Projects\\n\\n\\n## Jump King using Neuroevolution of Augmenting Topologies\\n\\n\\n## ■ Implemented Neuroevolution of Augmenting Topologies (NEAT) to create an AI capable of beating the game Jump\\n\\n\\n## King, demonstrating advanced reinforcement learning and evolutionary algorithms.\\n\\n\\n## ■ Key Skills: Reinforcement Learning, Evolutionary Algorithms, Game Development, PyGame\\n\\n\\n## Resistor Scanner and Classifier\\n\\n\\n## ■ Developed a hardware and software system using a Raspberry Pi 3b and a picamera to identify and classify\\n\\n\\n## resistors based on the color bands, providing both display and voice output for the classification.\\n\\n\\n## ■ Key Skills: Computer Vision, Image Processing, OpenCV, Scikit Learn, Classification, Hardware Integration, Voice\\n\\n\\n## Output, Embedded Systems, Electronics\\n\\n\\n## Technical Skills\\n\\n\\n## Programming Languages: Python, Java, C++, HTML, CSS\\n\\n\\n## ML Tools & APIs: TensorFlow Keras, Pandas, Numpy, sklearn, OpenCV, NLTK, LangChain, CUDA, CSE\\n\\n\\n## Development Tools: Git, Docker, Jupyter Notebooks, SQL, MongoDB, AWS, Oracle Cloud, Azure (Endpoint)\\n\\n\\n## Platforms: Windows, Linux\\n\\n\\n## Certificates\\n\\n\\n## 2023  – NVIDIA DLI – Building Transformer-Based NLP Applications\\n\\n\\n## learn.nvidia.com/certificates?id=a8b8a11b23154fad8a1b809782ddf4a9\\n\\n\\n## Professional Skills\\n\\n\\n## Leadership & Project Management: Manage and co-own esports team, led several projects on diagnosing and \\nsolving systematic company-wide infrastructure technical problems within G-Research; guided esports team to \\nseveral successes including winning 3 out of 4 grand prizes at ESL Barcelona \\nCommunication: Facilitated discussions, raised concerns, and gathered feedback from team members both at G-\\nResearch and in esports team management. \\nTime Management: Throughout G-Research and studies, effectively managed time to achieve high performance \\non-time \\nAdaptability and Learning: Rapidly able to learn new skills to fit any role, heavily leveraged to develop skills \\nbeyond university teaching. \\nCreativity and Innovation: Always finding new solutions and ways to succeed, such as all projects and ideas \\npresent on GitHub/tntcannon5000 (public and private), and several game exploits used to benefit esports team.\\n\\n\\n## Activities & Achievements\\n\\n\\n## Machine Learning Mentor: Have mentored and guided friends through learning the basics of machine learning, \\ndemonstrating and assisting with understanding the concepts and methods in artificial intelligence.\\n\\n\\n## Co-Owner & Manager, UERK Asphalt 9: Co-own and manage a successful esports team for a large racing game.  \\nLed members in the racing team to win 3 out of 4 grand prizes at ESL Barcelona. Primary manager for team, team \\nstrategy, structure, and now, preparations for huge cross-platform shift.\\n\"}\n"
     ]
    }
   ],
   "source": [
    "print(claude.get_message_history()[0])"
   ]
  }
 ],
 "metadata": {
  "kernelspec": {
   "display_name": "Python 3",
   "language": "python",
   "name": "python3"
  },
  "language_info": {
   "codemirror_mode": {
    "name": "ipython",
    "version": 3
   },
   "file_extension": ".py",
   "mimetype": "text/x-python",
   "name": "python",
   "nbconvert_exporter": "python",
   "pygments_lexer": "ipython3",
   "version": "3.11.6"
  }
 },
 "nbformat": 4,
 "nbformat_minor": 2
}

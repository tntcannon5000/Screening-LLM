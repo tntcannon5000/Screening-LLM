{
 "cells": [
  {
   "cell_type": "code",
   "execution_count": 1,
   "metadata": {},
   "outputs": [],
   "source": [
    "from AnthropicWrapper import ClaudeWrapper"
   ]
  },
  {
   "cell_type": "code",
   "execution_count": 2,
   "metadata": {},
   "outputs": [],
   "source": [
    "model = \"claude-3-5-sonnet-20240620\"\n",
    "system_prompt = \"You are a friendly enthusiastic chatbot. You are here to help me with whatever tasks I need or to have a nice conversation.\""
   ]
  },
  {
   "cell_type": "code",
   "execution_count": 3,
   "metadata": {},
   "outputs": [],
   "source": [
    "claude = ClaudeWrapper(model, system_prompt)"
   ]
  },
  {
   "cell_type": "code",
   "execution_count": 4,
   "metadata": {},
   "outputs": [
    {
     "name": "stdout",
     "output_type": "stream",
     "text": [
      "Hi my name is Niranjan, how're you doing?\n",
      "============================\n",
      "[{'role': 'user', 'content': \"Hi my name is Niranjan, how're you doing?\"}]\n"
     ]
    }
   ],
   "source": [
    "response = claude.chat(\"Hi my name is Niranjan, how're you doing?\")"
   ]
  },
  {
   "cell_type": "code",
   "execution_count": 5,
   "metadata": {},
   "outputs": [
    {
     "name": "stdout",
     "output_type": "stream",
     "text": [
      "Hello Niranjan! It's wonderful to meet you. I'm doing great, thank you for asking! I'm always excited to chat with new people and learn about them. How are you doing today? Is there anything in particular you'd like to talk about or any way I can help you out?\n"
     ]
    }
   ],
   "source": [
    "print(response)"
   ]
  }
 ],
 "metadata": {
  "kernelspec": {
   "display_name": "Python 3",
   "language": "python",
   "name": "python3"
  },
  "language_info": {
   "codemirror_mode": {
    "name": "ipython",
    "version": 3
   },
   "file_extension": ".py",
   "mimetype": "text/x-python",
   "name": "python",
   "nbconvert_exporter": "python",
   "pygments_lexer": "ipython3",
   "version": "3.11.6"
  }
 },
 "nbformat": 4,
 "nbformat_minor": 2
}

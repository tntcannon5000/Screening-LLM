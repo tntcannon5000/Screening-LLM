{
 "cells": [
  {
   "cell_type": "code",
   "execution_count": null,
   "metadata": {},
   "outputs": [],
   "source": [
    "import threading\n",
    "import keyboard\n",
    "import time"
   ]
  },
  {
   "cell_type": "code",
   "execution_count": null,
   "metadata": {},
   "outputs": [],
   "source": [
    "# -- Globals --\n",
    "global_variable = 1"
   ]
  },
  {
   "cell_type": "code",
   "execution_count": null,
   "metadata": {},
   "outputs": [],
   "source": [
    "import threading\n",
    "import keyboard\n",
    "\n",
    "def keyboard_listener():\n",
    "    \"\"\"Listens for key presses and prints them.\"\"\"\n",
    "    def on_key_press(event):\n",
    "        print('Key pressed: {}'.format(event.name))\n",
    "\n",
    "    keyboard.on_press(on_key_press)\n",
    "    keyboard.wait('esc')  # Wait for escape key press to stop\n",
    "\n",
    "# Create and start the thread for the keyboard listener\n",
    "listener_thread = threading.Thread(target=keyboard_listener)\n",
    "listener_thread.start()\n",
    "\n",
    "# Continue with your main program logic here...\n",
    "while True:\n",
    "    # ... Do something in your main thread ...\n",
    "    # For example, print a message every second\n",
    "    print(\"Main thread running...\")\n",
    "    time.sleep(1) \n",
    "\n",
    "# The listener thread will continue to run until 'esc' is pressed,\n",
    "# and then the main thread will eventually end as well. "
   ]
  },
  {
   "cell_type": "code",
   "execution_count": null,
   "metadata": {},
   "outputs": [],
   "source": [
    "import win32api\n",
    "import win32con\n",
    "import win32gui # Import win32gui\n",
    "import threading\n",
    "import time\n",
    "\n",
    "global_variable = 0\n",
    "\n",
    "def keyboard_interrupt_handler():\n",
    "    \"\"\"Handles keyboard interrupts and updates the global variable.\"\"\"\n",
    "    global global_variable\n",
    "\n",
    "    msg = win32api.RegisterWindowMessage(\"WM_HOTKEY\") \n",
    "    while True:\n",
    "        try:\n",
    "            # Peek for a message without removing it from the queue\n",
    "            msg_data = win32gui.PeekMessage(0, 0, 0, win32con.PM_REMOVE)\n",
    "            \n",
    "            # Check if a message is available and it's a WM_HOTKEY message\n",
    "            if msg_data[1][0] != 0 and msg_data[1][1] == msg:\n",
    "                # Extract the hotkey ID \n",
    "                hotkey_id = msg_data[2]\n",
    "\n",
    "                if hotkey_id == 1:  # Hotkey ID 1: 'q' key\n",
    "                    global_variable = 1\n",
    "                    print(\"Global variable updated to 1 (q pressed)\")\n",
    "                elif hotkey_id == 2:  # Hotkey ID 2: 'w' key\n",
    "                    global_variable = 2\n",
    "                    print(\"Global variable updated to 2 (w pressed)\")\n",
    "\n",
    "            time.sleep(0.1) # Add a small delay to avoid high CPU usage\n",
    "\n",
    "        except Exception as e:\n",
    "            print(f\"Error in keyboard handler: {e}\")\n",
    "\n",
    "# ... (rest of the code is the same)"
   ]
  },
  {
   "cell_type": "code",
   "execution_count": null,
   "metadata": {},
   "outputs": [],
   "source": [
    "while True:\n",
    "    if global_variable == 1:\n",
    "        print(\"Global variable is 1\")\n",
    "    elif global_variable == 0:\n",
    "        print(\"Global variable is 0\")\n",
    "    time.sleep(0.5)"
   ]
  }
 ],
 "metadata": {
  "language_info": {
   "name": "python"
  }
 },
 "nbformat": 4,
 "nbformat_minor": 2
}

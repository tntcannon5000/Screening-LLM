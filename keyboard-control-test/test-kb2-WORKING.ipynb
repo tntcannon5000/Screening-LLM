{
 "cells": [
  {
   "cell_type": "code",
   "execution_count": null,
   "metadata": {},
   "outputs": [],
   "source": [
    "import threading\n",
    "import keyboard\n",
    "import time"
   ]
  },
  {
   "cell_type": "code",
   "execution_count": null,
   "metadata": {},
   "outputs": [],
   "source": [
    "# -- Globals --\n",
    "global_variable = 1"
   ]
  },
  {
   "cell_type": "code",
   "execution_count": null,
   "metadata": {},
   "outputs": [],
   "source": [
    "def keyboard_listener():\n",
    "    global global_variable\n",
    "    \n",
    "    def on_key_press(event):\n",
    "        global global_variable\n",
    "        print(\"Key pressed: {}\" .format(event.name))\n",
    "        if event.name == \"+\":\n",
    "            global_variable = 1\n",
    "            print(\"Global variable set to 1\")\n",
    "        elif event.name == \"-\":\n",
    "            global_variable = 0\n",
    "            print(\"Global variable set to 0\")\n",
    "    \n",
    "    keyboard.on_press(on_key_press)\n",
    "    keyboard.wait('esc')\n",
    "\n",
    "listener_thread = threading.Thread(target=keyboard_listener)\n",
    "listener_thread.start()"
   ]
  },
  {
   "cell_type": "code",
   "execution_count": null,
   "metadata": {},
   "outputs": [],
   "source": [
    "while True:\n",
    "    if global_variable == 1:\n",
    "        print(\"Global variable is 1\")\n",
    "    elif global_variable == 0:\n",
    "        print(\"Global variable is 0\")\n",
    "    time.sleep(0.5)"
   ]
  }
 ],
 "metadata": {
  "language_info": {
   "name": "python"
  }
 },
 "nbformat": 4,
 "nbformat_minor": 2
}

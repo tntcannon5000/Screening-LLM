{
 "cells": [
  {
   "cell_type": "code",
   "execution_count": 1,
   "metadata": {},
   "outputs": [
    {
     "name": "stderr",
     "output_type": "stream",
     "text": [
      "USER_AGENT environment variable not set, consider setting it to identify your requests.\n"
     ]
    }
   ],
   "source": [
    "from webscrapper import WebScraper"
   ]
  },
  {
   "cell_type": "code",
   "execution_count": 2,
   "metadata": {},
   "outputs": [
    {
     "name": "stdout",
     "output_type": "stream",
     "text": [
      "scraped_data\\madewithmlcom_1.txt\n",
      "scraped_data\\wwwgeeksforgeeksorg_2.txt\n",
      "scraped_data\\wwwnvidiacom_3.txt\n",
      "scraped_data\\wwwanalyticsvidhyacom_4.txt\n",
      "scraped_data\\wwwdatacampcom_5.txt\n"
     ]
    }
   ],
   "source": [
    "scraper = WebScraper(\"machine learning using pandas\")\n",
    "\n",
    "# Call the method to get the file paths of the scraped data\n",
    "file_paths = scraper.get_scraped_data()\n",
    "\n",
    "# Print the file paths\n",
    "for path in file_paths:\n",
    "    print(path)"
   ]
  },
  {
   "cell_type": "code",
   "execution_count": null,
   "metadata": {},
   "outputs": [],
   "source": []
  }
 ],
 "metadata": {
  "kernelspec": {
   "display_name": "disso",
   "language": "python",
   "name": "python3"
  },
  "language_info": {
   "codemirror_mode": {
    "name": "ipython",
    "version": 3
   },
   "file_extension": ".py",
   "mimetype": "text/x-python",
   "name": "python",
   "nbconvert_exporter": "python",
   "pygments_lexer": "ipython3",
   "version": "3.12.4"
  }
 },
 "nbformat": 4,
 "nbformat_minor": 2
}
